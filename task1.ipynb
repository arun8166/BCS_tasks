{
  "cells": [
    {
      "cell_type": "markdown",
      "metadata": {
        "id": "view-in-github",
        "colab_type": "text"
      },
      "source": [
        "<a href=\"https://colab.research.google.com/github/arun8166/BCS_tasks/blob/main/task1.ipynb\" target=\"_parent\"><img src=\"https://colab.research.google.com/assets/colab-badge.svg\" alt=\"Open In Colab\"/></a>"
      ]
    },
    {
      "cell_type": "markdown",
      "metadata": {
        "id": "qjKg47GBdXY9"
      },
      "source": [
        "# **Brain and Cognitive Society, IIT Kanpur**\n",
        "## **Introduction to Deep Learning Workshop**\n",
        "**This python notebook is an assingment on ML/DL**\n",
        "\n",
        "In this assingment you will solve a **regression** problem of predicting House prices using basic python libraries, and build a **neural network** for handwritten digit identification using **TensorFlow**"
      ]
    },
    {
      "cell_type": "markdown",
      "source": [
        "## **Linear Regression**\n",
        "We will use Linear regression for predicting house prices\n",
        "\n",
        "We are using a Kaggle dataset- https://www.kaggle.com/harlfoxem/housesalesprediction"
      ],
      "metadata": {
        "id": "FSRalact4xj4"
      }
    },
    {
      "cell_type": "code",
      "source": [
        "# Lets import required Libraries\n",
        "import pandas as pd\n",
        "import numpy as np\n",
        "import matplotlib.pyplot as plt\n",
        "from sklearn.model_selection import train_test_split\n"
      ],
      "metadata": {
        "id": "J8MRCcJY2btt"
      },
      "execution_count": null,
      "outputs": []
    },
    {
      "cell_type": "markdown",
      "source": [
        "### **Dataset Preparation**"
      ],
      "metadata": {
        "id": "1MzAhMmE6UHE"
      }
    },
    {
      "cell_type": "code",
      "source": [
        "# Execute this cell for loading dataset in a pandas dataframe\n",
        "\n",
        "from IPython.display import clear_output\n",
        "!wget --no-check-certificate 'https://docs.google.com/uc?export=download&id=16x6-8Znn2T50zFwVvKlzsdN7Jd1hpjct' -O Linear_regression_dataset\n",
        "\n",
        "data_df = pd.read_csv(\"Linear_regression_dataset\")"
      ],
      "metadata": {
        "id": "LiWI-2py554R",
        "outputId": "9709a7c5-7d1b-4cd9-d890-a00ca79310b8",
        "colab": {
          "base_uri": "https://localhost:8080/"
        }
      },
      "execution_count": null,
      "outputs": [
        {
          "output_type": "stream",
          "name": "stdout",
          "text": [
            "--2023-06-06 13:10:34--  https://docs.google.com/uc?export=download&id=16x6-8Znn2T50zFwVvKlzsdN7Jd1hpjct\n",
            "Resolving docs.google.com (docs.google.com)... 172.253.63.138, 172.253.63.139, 172.253.63.102, ...\n",
            "Connecting to docs.google.com (docs.google.com)|172.253.63.138|:443... connected.\n",
            "HTTP request sent, awaiting response... 303 See Other\n",
            "Location: https://doc-14-3o-docs.googleusercontent.com/docs/securesc/ha0ro937gcuc7l7deffksulhg5h7mbp1/j3ojtnv9bi80re71m76ksbns9u490jg1/1686057000000/17346214133729595847/*/16x6-8Znn2T50zFwVvKlzsdN7Jd1hpjct?e=download&uuid=b12f49a5-aafe-4a1f-9578-d0aa6faadcec [following]\n",
            "Warning: wildcards not supported in HTTP.\n",
            "--2023-06-06 13:10:36--  https://doc-14-3o-docs.googleusercontent.com/docs/securesc/ha0ro937gcuc7l7deffksulhg5h7mbp1/j3ojtnv9bi80re71m76ksbns9u490jg1/1686057000000/17346214133729595847/*/16x6-8Znn2T50zFwVvKlzsdN7Jd1hpjct?e=download&uuid=b12f49a5-aafe-4a1f-9578-d0aa6faadcec\n",
            "Resolving doc-14-3o-docs.googleusercontent.com (doc-14-3o-docs.googleusercontent.com)... 172.253.122.132, 2607:f8b0:4004:c09::84\n",
            "Connecting to doc-14-3o-docs.googleusercontent.com (doc-14-3o-docs.googleusercontent.com)|172.253.122.132|:443... connected.\n",
            "HTTP request sent, awaiting response... 200 OK\n",
            "Length: 2515206 (2.4M) [text/csv]\n",
            "Saving to: ‘Linear_regression_dataset’\n",
            "\n",
            "Linear_regression_d 100%[===================>]   2.40M  --.-KB/s    in 0.01s   \n",
            "\n",
            "2023-06-06 13:10:36 (199 MB/s) - ‘Linear_regression_dataset’ saved [2515206/2515206]\n",
            "\n"
          ]
        }
      ]
    },
    {
      "cell_type": "code",
      "source": [
        "print(\"(No of rows, No of Columns) = \",data_df.shape)\n",
        "data_df.head()"
      ],
      "metadata": {
        "id": "xsyWhm3MT3S4",
        "outputId": "825ccb1d-1695-497c-8e8f-7d44e52847c9",
        "colab": {
          "base_uri": "https://localhost:8080/",
          "height": 317
        }
      },
      "execution_count": null,
      "outputs": [
        {
          "output_type": "stream",
          "name": "stdout",
          "text": [
            "(No of rows, No of Columns) =  (21613, 21)\n"
          ]
        },
        {
          "output_type": "execute_result",
          "data": {
            "text/plain": [
              "           id             date     price  bedrooms  bathrooms  sqft_living  \\\n",
              "0  7129300520  20141013T000000  221900.0         3       1.00         1180   \n",
              "1  6414100192  20141209T000000  538000.0         3       2.25         2570   \n",
              "2  5631500400  20150225T000000  180000.0         2       1.00          770   \n",
              "3  2487200875  20141209T000000  604000.0         4       3.00         1960   \n",
              "4  1954400510  20150218T000000  510000.0         3       2.00         1680   \n",
              "\n",
              "   sqft_lot  floors  waterfront  view  ...  grade  sqft_above  sqft_basement  \\\n",
              "0      5650     1.0           0     0  ...      7        1180              0   \n",
              "1      7242     2.0           0     0  ...      7        2170            400   \n",
              "2     10000     1.0           0     0  ...      6         770              0   \n",
              "3      5000     1.0           0     0  ...      7        1050            910   \n",
              "4      8080     1.0           0     0  ...      8        1680              0   \n",
              "\n",
              "   yr_built  yr_renovated  zipcode      lat     long  sqft_living15  \\\n",
              "0      1955             0    98178  47.5112 -122.257           1340   \n",
              "1      1951          1991    98125  47.7210 -122.319           1690   \n",
              "2      1933             0    98028  47.7379 -122.233           2720   \n",
              "3      1965             0    98136  47.5208 -122.393           1360   \n",
              "4      1987             0    98074  47.6168 -122.045           1800   \n",
              "\n",
              "   sqft_lot15  \n",
              "0        5650  \n",
              "1        7639  \n",
              "2        8062  \n",
              "3        5000  \n",
              "4        7503  \n",
              "\n",
              "[5 rows x 21 columns]"
            ],
            "text/html": [
              "\n",
              "  <div id=\"df-96636b90-8fed-4082-be22-be57f00df05f\">\n",
              "    <div class=\"colab-df-container\">\n",
              "      <div>\n",
              "<style scoped>\n",
              "    .dataframe tbody tr th:only-of-type {\n",
              "        vertical-align: middle;\n",
              "    }\n",
              "\n",
              "    .dataframe tbody tr th {\n",
              "        vertical-align: top;\n",
              "    }\n",
              "\n",
              "    .dataframe thead th {\n",
              "        text-align: right;\n",
              "    }\n",
              "</style>\n",
              "<table border=\"1\" class=\"dataframe\">\n",
              "  <thead>\n",
              "    <tr style=\"text-align: right;\">\n",
              "      <th></th>\n",
              "      <th>id</th>\n",
              "      <th>date</th>\n",
              "      <th>price</th>\n",
              "      <th>bedrooms</th>\n",
              "      <th>bathrooms</th>\n",
              "      <th>sqft_living</th>\n",
              "      <th>sqft_lot</th>\n",
              "      <th>floors</th>\n",
              "      <th>waterfront</th>\n",
              "      <th>view</th>\n",
              "      <th>...</th>\n",
              "      <th>grade</th>\n",
              "      <th>sqft_above</th>\n",
              "      <th>sqft_basement</th>\n",
              "      <th>yr_built</th>\n",
              "      <th>yr_renovated</th>\n",
              "      <th>zipcode</th>\n",
              "      <th>lat</th>\n",
              "      <th>long</th>\n",
              "      <th>sqft_living15</th>\n",
              "      <th>sqft_lot15</th>\n",
              "    </tr>\n",
              "  </thead>\n",
              "  <tbody>\n",
              "    <tr>\n",
              "      <th>0</th>\n",
              "      <td>7129300520</td>\n",
              "      <td>20141013T000000</td>\n",
              "      <td>221900.0</td>\n",
              "      <td>3</td>\n",
              "      <td>1.00</td>\n",
              "      <td>1180</td>\n",
              "      <td>5650</td>\n",
              "      <td>1.0</td>\n",
              "      <td>0</td>\n",
              "      <td>0</td>\n",
              "      <td>...</td>\n",
              "      <td>7</td>\n",
              "      <td>1180</td>\n",
              "      <td>0</td>\n",
              "      <td>1955</td>\n",
              "      <td>0</td>\n",
              "      <td>98178</td>\n",
              "      <td>47.5112</td>\n",
              "      <td>-122.257</td>\n",
              "      <td>1340</td>\n",
              "      <td>5650</td>\n",
              "    </tr>\n",
              "    <tr>\n",
              "      <th>1</th>\n",
              "      <td>6414100192</td>\n",
              "      <td>20141209T000000</td>\n",
              "      <td>538000.0</td>\n",
              "      <td>3</td>\n",
              "      <td>2.25</td>\n",
              "      <td>2570</td>\n",
              "      <td>7242</td>\n",
              "      <td>2.0</td>\n",
              "      <td>0</td>\n",
              "      <td>0</td>\n",
              "      <td>...</td>\n",
              "      <td>7</td>\n",
              "      <td>2170</td>\n",
              "      <td>400</td>\n",
              "      <td>1951</td>\n",
              "      <td>1991</td>\n",
              "      <td>98125</td>\n",
              "      <td>47.7210</td>\n",
              "      <td>-122.319</td>\n",
              "      <td>1690</td>\n",
              "      <td>7639</td>\n",
              "    </tr>\n",
              "    <tr>\n",
              "      <th>2</th>\n",
              "      <td>5631500400</td>\n",
              "      <td>20150225T000000</td>\n",
              "      <td>180000.0</td>\n",
              "      <td>2</td>\n",
              "      <td>1.00</td>\n",
              "      <td>770</td>\n",
              "      <td>10000</td>\n",
              "      <td>1.0</td>\n",
              "      <td>0</td>\n",
              "      <td>0</td>\n",
              "      <td>...</td>\n",
              "      <td>6</td>\n",
              "      <td>770</td>\n",
              "      <td>0</td>\n",
              "      <td>1933</td>\n",
              "      <td>0</td>\n",
              "      <td>98028</td>\n",
              "      <td>47.7379</td>\n",
              "      <td>-122.233</td>\n",
              "      <td>2720</td>\n",
              "      <td>8062</td>\n",
              "    </tr>\n",
              "    <tr>\n",
              "      <th>3</th>\n",
              "      <td>2487200875</td>\n",
              "      <td>20141209T000000</td>\n",
              "      <td>604000.0</td>\n",
              "      <td>4</td>\n",
              "      <td>3.00</td>\n",
              "      <td>1960</td>\n",
              "      <td>5000</td>\n",
              "      <td>1.0</td>\n",
              "      <td>0</td>\n",
              "      <td>0</td>\n",
              "      <td>...</td>\n",
              "      <td>7</td>\n",
              "      <td>1050</td>\n",
              "      <td>910</td>\n",
              "      <td>1965</td>\n",
              "      <td>0</td>\n",
              "      <td>98136</td>\n",
              "      <td>47.5208</td>\n",
              "      <td>-122.393</td>\n",
              "      <td>1360</td>\n",
              "      <td>5000</td>\n",
              "    </tr>\n",
              "    <tr>\n",
              "      <th>4</th>\n",
              "      <td>1954400510</td>\n",
              "      <td>20150218T000000</td>\n",
              "      <td>510000.0</td>\n",
              "      <td>3</td>\n",
              "      <td>2.00</td>\n",
              "      <td>1680</td>\n",
              "      <td>8080</td>\n",
              "      <td>1.0</td>\n",
              "      <td>0</td>\n",
              "      <td>0</td>\n",
              "      <td>...</td>\n",
              "      <td>8</td>\n",
              "      <td>1680</td>\n",
              "      <td>0</td>\n",
              "      <td>1987</td>\n",
              "      <td>0</td>\n",
              "      <td>98074</td>\n",
              "      <td>47.6168</td>\n",
              "      <td>-122.045</td>\n",
              "      <td>1800</td>\n",
              "      <td>7503</td>\n",
              "    </tr>\n",
              "  </tbody>\n",
              "</table>\n",
              "<p>5 rows × 21 columns</p>\n",
              "</div>\n",
              "      <button class=\"colab-df-convert\" onclick=\"convertToInteractive('df-96636b90-8fed-4082-be22-be57f00df05f')\"\n",
              "              title=\"Convert this dataframe to an interactive table.\"\n",
              "              style=\"display:none;\">\n",
              "        \n",
              "  <svg xmlns=\"http://www.w3.org/2000/svg\" height=\"24px\"viewBox=\"0 0 24 24\"\n",
              "       width=\"24px\">\n",
              "    <path d=\"M0 0h24v24H0V0z\" fill=\"none\"/>\n",
              "    <path d=\"M18.56 5.44l.94 2.06.94-2.06 2.06-.94-2.06-.94-.94-2.06-.94 2.06-2.06.94zm-11 1L8.5 8.5l.94-2.06 2.06-.94-2.06-.94L8.5 2.5l-.94 2.06-2.06.94zm10 10l.94 2.06.94-2.06 2.06-.94-2.06-.94-.94-2.06-.94 2.06-2.06.94z\"/><path d=\"M17.41 7.96l-1.37-1.37c-.4-.4-.92-.59-1.43-.59-.52 0-1.04.2-1.43.59L10.3 9.45l-7.72 7.72c-.78.78-.78 2.05 0 2.83L4 21.41c.39.39.9.59 1.41.59.51 0 1.02-.2 1.41-.59l7.78-7.78 2.81-2.81c.8-.78.8-2.07 0-2.86zM5.41 20L4 18.59l7.72-7.72 1.47 1.35L5.41 20z\"/>\n",
              "  </svg>\n",
              "      </button>\n",
              "      \n",
              "  <style>\n",
              "    .colab-df-container {\n",
              "      display:flex;\n",
              "      flex-wrap:wrap;\n",
              "      gap: 12px;\n",
              "    }\n",
              "\n",
              "    .colab-df-convert {\n",
              "      background-color: #E8F0FE;\n",
              "      border: none;\n",
              "      border-radius: 50%;\n",
              "      cursor: pointer;\n",
              "      display: none;\n",
              "      fill: #1967D2;\n",
              "      height: 32px;\n",
              "      padding: 0 0 0 0;\n",
              "      width: 32px;\n",
              "    }\n",
              "\n",
              "    .colab-df-convert:hover {\n",
              "      background-color: #E2EBFA;\n",
              "      box-shadow: 0px 1px 2px rgba(60, 64, 67, 0.3), 0px 1px 3px 1px rgba(60, 64, 67, 0.15);\n",
              "      fill: #174EA6;\n",
              "    }\n",
              "\n",
              "    [theme=dark] .colab-df-convert {\n",
              "      background-color: #3B4455;\n",
              "      fill: #D2E3FC;\n",
              "    }\n",
              "\n",
              "    [theme=dark] .colab-df-convert:hover {\n",
              "      background-color: #434B5C;\n",
              "      box-shadow: 0px 1px 3px 1px rgba(0, 0, 0, 0.15);\n",
              "      filter: drop-shadow(0px 1px 2px rgba(0, 0, 0, 0.3));\n",
              "      fill: #FFFFFF;\n",
              "    }\n",
              "  </style>\n",
              "\n",
              "      <script>\n",
              "        const buttonEl =\n",
              "          document.querySelector('#df-96636b90-8fed-4082-be22-be57f00df05f button.colab-df-convert');\n",
              "        buttonEl.style.display =\n",
              "          google.colab.kernel.accessAllowed ? 'block' : 'none';\n",
              "\n",
              "        async function convertToInteractive(key) {\n",
              "          const element = document.querySelector('#df-96636b90-8fed-4082-be22-be57f00df05f');\n",
              "          const dataTable =\n",
              "            await google.colab.kernel.invokeFunction('convertToInteractive',\n",
              "                                                     [key], {});\n",
              "          if (!dataTable) return;\n",
              "\n",
              "          const docLinkHtml = 'Like what you see? Visit the ' +\n",
              "            '<a target=\"_blank\" href=https://colab.research.google.com/notebooks/data_table.ipynb>data table notebook</a>'\n",
              "            + ' to learn more about interactive tables.';\n",
              "          element.innerHTML = '';\n",
              "          dataTable['output_type'] = 'display_data';\n",
              "          await google.colab.output.renderOutput(dataTable, element);\n",
              "          const docLink = document.createElement('div');\n",
              "          docLink.innerHTML = docLinkHtml;\n",
              "          element.appendChild(docLink);\n",
              "        }\n",
              "      </script>\n",
              "    </div>\n",
              "  </div>\n",
              "  "
            ]
          },
          "metadata": {},
          "execution_count": 3
        }
      ]
    },
    {
      "cell_type": "code",
      "source": [
        "# Lets have a quick Look at dataset\n",
        "\n",
        "print(\"(No of rows, No of Columns) = \",data_df.shape)\n",
        "data_df.head()"
      ],
      "metadata": {
        "id": "TAodxbYX7AKf",
        "outputId": "31035574-f4b4-4028-abb8-76a6301eb40f",
        "colab": {
          "base_uri": "https://localhost:8080/",
          "height": 317
        }
      },
      "execution_count": null,
      "outputs": [
        {
          "output_type": "stream",
          "name": "stdout",
          "text": [
            "(No of rows, No of Columns) =  (21613, 21)\n"
          ]
        },
        {
          "output_type": "execute_result",
          "data": {
            "text/plain": [
              "           id             date     price  bedrooms  bathrooms  sqft_living  \\\n",
              "0  7129300520  20141013T000000  221900.0         3       1.00         1180   \n",
              "1  6414100192  20141209T000000  538000.0         3       2.25         2570   \n",
              "2  5631500400  20150225T000000  180000.0         2       1.00          770   \n",
              "3  2487200875  20141209T000000  604000.0         4       3.00         1960   \n",
              "4  1954400510  20150218T000000  510000.0         3       2.00         1680   \n",
              "\n",
              "   sqft_lot  floors  waterfront  view  ...  grade  sqft_above  sqft_basement  \\\n",
              "0      5650     1.0           0     0  ...      7        1180              0   \n",
              "1      7242     2.0           0     0  ...      7        2170            400   \n",
              "2     10000     1.0           0     0  ...      6         770              0   \n",
              "3      5000     1.0           0     0  ...      7        1050            910   \n",
              "4      8080     1.0           0     0  ...      8        1680              0   \n",
              "\n",
              "   yr_built  yr_renovated  zipcode      lat     long  sqft_living15  \\\n",
              "0      1955             0    98178  47.5112 -122.257           1340   \n",
              "1      1951          1991    98125  47.7210 -122.319           1690   \n",
              "2      1933             0    98028  47.7379 -122.233           2720   \n",
              "3      1965             0    98136  47.5208 -122.393           1360   \n",
              "4      1987             0    98074  47.6168 -122.045           1800   \n",
              "\n",
              "   sqft_lot15  \n",
              "0        5650  \n",
              "1        7639  \n",
              "2        8062  \n",
              "3        5000  \n",
              "4        7503  \n",
              "\n",
              "[5 rows x 21 columns]"
            ],
            "text/html": [
              "\n",
              "  <div id=\"df-e1d52de9-b72e-4d80-9798-37c1421a696a\">\n",
              "    <div class=\"colab-df-container\">\n",
              "      <div>\n",
              "<style scoped>\n",
              "    .dataframe tbody tr th:only-of-type {\n",
              "        vertical-align: middle;\n",
              "    }\n",
              "\n",
              "    .dataframe tbody tr th {\n",
              "        vertical-align: top;\n",
              "    }\n",
              "\n",
              "    .dataframe thead th {\n",
              "        text-align: right;\n",
              "    }\n",
              "</style>\n",
              "<table border=\"1\" class=\"dataframe\">\n",
              "  <thead>\n",
              "    <tr style=\"text-align: right;\">\n",
              "      <th></th>\n",
              "      <th>id</th>\n",
              "      <th>date</th>\n",
              "      <th>price</th>\n",
              "      <th>bedrooms</th>\n",
              "      <th>bathrooms</th>\n",
              "      <th>sqft_living</th>\n",
              "      <th>sqft_lot</th>\n",
              "      <th>floors</th>\n",
              "      <th>waterfront</th>\n",
              "      <th>view</th>\n",
              "      <th>...</th>\n",
              "      <th>grade</th>\n",
              "      <th>sqft_above</th>\n",
              "      <th>sqft_basement</th>\n",
              "      <th>yr_built</th>\n",
              "      <th>yr_renovated</th>\n",
              "      <th>zipcode</th>\n",
              "      <th>lat</th>\n",
              "      <th>long</th>\n",
              "      <th>sqft_living15</th>\n",
              "      <th>sqft_lot15</th>\n",
              "    </tr>\n",
              "  </thead>\n",
              "  <tbody>\n",
              "    <tr>\n",
              "      <th>0</th>\n",
              "      <td>7129300520</td>\n",
              "      <td>20141013T000000</td>\n",
              "      <td>221900.0</td>\n",
              "      <td>3</td>\n",
              "      <td>1.00</td>\n",
              "      <td>1180</td>\n",
              "      <td>5650</td>\n",
              "      <td>1.0</td>\n",
              "      <td>0</td>\n",
              "      <td>0</td>\n",
              "      <td>...</td>\n",
              "      <td>7</td>\n",
              "      <td>1180</td>\n",
              "      <td>0</td>\n",
              "      <td>1955</td>\n",
              "      <td>0</td>\n",
              "      <td>98178</td>\n",
              "      <td>47.5112</td>\n",
              "      <td>-122.257</td>\n",
              "      <td>1340</td>\n",
              "      <td>5650</td>\n",
              "    </tr>\n",
              "    <tr>\n",
              "      <th>1</th>\n",
              "      <td>6414100192</td>\n",
              "      <td>20141209T000000</td>\n",
              "      <td>538000.0</td>\n",
              "      <td>3</td>\n",
              "      <td>2.25</td>\n",
              "      <td>2570</td>\n",
              "      <td>7242</td>\n",
              "      <td>2.0</td>\n",
              "      <td>0</td>\n",
              "      <td>0</td>\n",
              "      <td>...</td>\n",
              "      <td>7</td>\n",
              "      <td>2170</td>\n",
              "      <td>400</td>\n",
              "      <td>1951</td>\n",
              "      <td>1991</td>\n",
              "      <td>98125</td>\n",
              "      <td>47.7210</td>\n",
              "      <td>-122.319</td>\n",
              "      <td>1690</td>\n",
              "      <td>7639</td>\n",
              "    </tr>\n",
              "    <tr>\n",
              "      <th>2</th>\n",
              "      <td>5631500400</td>\n",
              "      <td>20150225T000000</td>\n",
              "      <td>180000.0</td>\n",
              "      <td>2</td>\n",
              "      <td>1.00</td>\n",
              "      <td>770</td>\n",
              "      <td>10000</td>\n",
              "      <td>1.0</td>\n",
              "      <td>0</td>\n",
              "      <td>0</td>\n",
              "      <td>...</td>\n",
              "      <td>6</td>\n",
              "      <td>770</td>\n",
              "      <td>0</td>\n",
              "      <td>1933</td>\n",
              "      <td>0</td>\n",
              "      <td>98028</td>\n",
              "      <td>47.7379</td>\n",
              "      <td>-122.233</td>\n",
              "      <td>2720</td>\n",
              "      <td>8062</td>\n",
              "    </tr>\n",
              "    <tr>\n",
              "      <th>3</th>\n",
              "      <td>2487200875</td>\n",
              "      <td>20141209T000000</td>\n",
              "      <td>604000.0</td>\n",
              "      <td>4</td>\n",
              "      <td>3.00</td>\n",
              "      <td>1960</td>\n",
              "      <td>5000</td>\n",
              "      <td>1.0</td>\n",
              "      <td>0</td>\n",
              "      <td>0</td>\n",
              "      <td>...</td>\n",
              "      <td>7</td>\n",
              "      <td>1050</td>\n",
              "      <td>910</td>\n",
              "      <td>1965</td>\n",
              "      <td>0</td>\n",
              "      <td>98136</td>\n",
              "      <td>47.5208</td>\n",
              "      <td>-122.393</td>\n",
              "      <td>1360</td>\n",
              "      <td>5000</td>\n",
              "    </tr>\n",
              "    <tr>\n",
              "      <th>4</th>\n",
              "      <td>1954400510</td>\n",
              "      <td>20150218T000000</td>\n",
              "      <td>510000.0</td>\n",
              "      <td>3</td>\n",
              "      <td>2.00</td>\n",
              "      <td>1680</td>\n",
              "      <td>8080</td>\n",
              "      <td>1.0</td>\n",
              "      <td>0</td>\n",
              "      <td>0</td>\n",
              "      <td>...</td>\n",
              "      <td>8</td>\n",
              "      <td>1680</td>\n",
              "      <td>0</td>\n",
              "      <td>1987</td>\n",
              "      <td>0</td>\n",
              "      <td>98074</td>\n",
              "      <td>47.6168</td>\n",
              "      <td>-122.045</td>\n",
              "      <td>1800</td>\n",
              "      <td>7503</td>\n",
              "    </tr>\n",
              "  </tbody>\n",
              "</table>\n",
              "<p>5 rows × 21 columns</p>\n",
              "</div>\n",
              "      <button class=\"colab-df-convert\" onclick=\"convertToInteractive('df-e1d52de9-b72e-4d80-9798-37c1421a696a')\"\n",
              "              title=\"Convert this dataframe to an interactive table.\"\n",
              "              style=\"display:none;\">\n",
              "        \n",
              "  <svg xmlns=\"http://www.w3.org/2000/svg\" height=\"24px\"viewBox=\"0 0 24 24\"\n",
              "       width=\"24px\">\n",
              "    <path d=\"M0 0h24v24H0V0z\" fill=\"none\"/>\n",
              "    <path d=\"M18.56 5.44l.94 2.06.94-2.06 2.06-.94-2.06-.94-.94-2.06-.94 2.06-2.06.94zm-11 1L8.5 8.5l.94-2.06 2.06-.94-2.06-.94L8.5 2.5l-.94 2.06-2.06.94zm10 10l.94 2.06.94-2.06 2.06-.94-2.06-.94-.94-2.06-.94 2.06-2.06.94z\"/><path d=\"M17.41 7.96l-1.37-1.37c-.4-.4-.92-.59-1.43-.59-.52 0-1.04.2-1.43.59L10.3 9.45l-7.72 7.72c-.78.78-.78 2.05 0 2.83L4 21.41c.39.39.9.59 1.41.59.51 0 1.02-.2 1.41-.59l7.78-7.78 2.81-2.81c.8-.78.8-2.07 0-2.86zM5.41 20L4 18.59l7.72-7.72 1.47 1.35L5.41 20z\"/>\n",
              "  </svg>\n",
              "      </button>\n",
              "      \n",
              "  <style>\n",
              "    .colab-df-container {\n",
              "      display:flex;\n",
              "      flex-wrap:wrap;\n",
              "      gap: 12px;\n",
              "    }\n",
              "\n",
              "    .colab-df-convert {\n",
              "      background-color: #E8F0FE;\n",
              "      border: none;\n",
              "      border-radius: 50%;\n",
              "      cursor: pointer;\n",
              "      display: none;\n",
              "      fill: #1967D2;\n",
              "      height: 32px;\n",
              "      padding: 0 0 0 0;\n",
              "      width: 32px;\n",
              "    }\n",
              "\n",
              "    .colab-df-convert:hover {\n",
              "      background-color: #E2EBFA;\n",
              "      box-shadow: 0px 1px 2px rgba(60, 64, 67, 0.3), 0px 1px 3px 1px rgba(60, 64, 67, 0.15);\n",
              "      fill: #174EA6;\n",
              "    }\n",
              "\n",
              "    [theme=dark] .colab-df-convert {\n",
              "      background-color: #3B4455;\n",
              "      fill: #D2E3FC;\n",
              "    }\n",
              "\n",
              "    [theme=dark] .colab-df-convert:hover {\n",
              "      background-color: #434B5C;\n",
              "      box-shadow: 0px 1px 3px 1px rgba(0, 0, 0, 0.15);\n",
              "      filter: drop-shadow(0px 1px 2px rgba(0, 0, 0, 0.3));\n",
              "      fill: #FFFFFF;\n",
              "    }\n",
              "  </style>\n",
              "\n",
              "      <script>\n",
              "        const buttonEl =\n",
              "          document.querySelector('#df-e1d52de9-b72e-4d80-9798-37c1421a696a button.colab-df-convert');\n",
              "        buttonEl.style.display =\n",
              "          google.colab.kernel.accessAllowed ? 'block' : 'none';\n",
              "\n",
              "        async function convertToInteractive(key) {\n",
              "          const element = document.querySelector('#df-e1d52de9-b72e-4d80-9798-37c1421a696a');\n",
              "          const dataTable =\n",
              "            await google.colab.kernel.invokeFunction('convertToInteractive',\n",
              "                                                     [key], {});\n",
              "          if (!dataTable) return;\n",
              "\n",
              "          const docLinkHtml = 'Like what you see? Visit the ' +\n",
              "            '<a target=\"_blank\" href=https://colab.research.google.com/notebooks/data_table.ipynb>data table notebook</a>'\n",
              "            + ' to learn more about interactive tables.';\n",
              "          element.innerHTML = '';\n",
              "          dataTable['output_type'] = 'display_data';\n",
              "          await google.colab.output.renderOutput(dataTable, element);\n",
              "          const docLink = document.createElement('div');\n",
              "          docLink.innerHTML = docLinkHtml;\n",
              "          element.appendChild(docLink);\n",
              "        }\n",
              "      </script>\n",
              "    </div>\n",
              "  </div>\n",
              "  "
            ]
          },
          "metadata": {},
          "execution_count": 4
        }
      ]
    },
    {
      "cell_type": "markdown",
      "source": [
        "So there are **19** features (of course we will not use id as feature :) ), and 1 variable to predict(price)\n",
        "\n",
        "But note that the **date** column contain strings so first we will remove T00.. part from it and than convert it to numpy array."
      ],
      "metadata": {
        "id": "gsJaooGZ7pUV"
      }
    },
    {
      "cell_type": "code",
      "source": [
        "data_df['date'] = data_df['date'].str.replace('T000000', '')\n",
        "\n",
        "data_array=np.array(data_df)\n",
        "data_array=np.delete(data_array,0,1)\n",
        "data_array=data_array.astype(np.int)\n",
        "print(data_array)\n",
        "\n",
        "assert (data_array.shape == (21613,20))\n",
        "\n",
        "data_df.head()\n",
        "\n",
        "\n"
      ],
      "metadata": {
        "id": "vCPIoOV8UHs-",
        "outputId": "3f22f77e-1515-4b92-e866-ed830fadd216",
        "colab": {
          "base_uri": "https://localhost:8080/",
          "height": 473
        }
      },
      "execution_count": null,
      "outputs": [
        {
          "output_type": "stream",
          "name": "stdout",
          "text": [
            "[[20141013   221900        3 ...     -122     1340     5650]\n",
            " [20141209   538000        3 ...     -122     1690     7639]\n",
            " [20150225   180000        2 ...     -122     2720     8062]\n",
            " ...\n",
            " [20140623   402101        2 ...     -122     1020     2007]\n",
            " [20150116   400000        3 ...     -122     1410     1287]\n",
            " [20141015   325000        2 ...     -122     1020     1357]]\n"
          ]
        },
        {
          "output_type": "stream",
          "name": "stderr",
          "text": [
            "<ipython-input-5-c62eea41342c>:5: DeprecationWarning: `np.int` is a deprecated alias for the builtin `int`. To silence this warning, use `int` by itself. Doing this will not modify any behavior and is safe. When replacing `np.int`, you may wish to use e.g. `np.int64` or `np.int32` to specify the precision. If you wish to review your current use, check the release note link for additional information.\n",
            "Deprecated in NumPy 1.20; for more details and guidance: https://numpy.org/devdocs/release/1.20.0-notes.html#deprecations\n",
            "  data_array=data_array.astype(np.int)\n"
          ]
        },
        {
          "output_type": "execute_result",
          "data": {
            "text/plain": [
              "           id      date     price  bedrooms  bathrooms  sqft_living  sqft_lot  \\\n",
              "0  7129300520  20141013  221900.0         3       1.00         1180      5650   \n",
              "1  6414100192  20141209  538000.0         3       2.25         2570      7242   \n",
              "2  5631500400  20150225  180000.0         2       1.00          770     10000   \n",
              "3  2487200875  20141209  604000.0         4       3.00         1960      5000   \n",
              "4  1954400510  20150218  510000.0         3       2.00         1680      8080   \n",
              "\n",
              "   floors  waterfront  view  ...  grade  sqft_above  sqft_basement  yr_built  \\\n",
              "0     1.0           0     0  ...      7        1180              0      1955   \n",
              "1     2.0           0     0  ...      7        2170            400      1951   \n",
              "2     1.0           0     0  ...      6         770              0      1933   \n",
              "3     1.0           0     0  ...      7        1050            910      1965   \n",
              "4     1.0           0     0  ...      8        1680              0      1987   \n",
              "\n",
              "   yr_renovated  zipcode      lat     long  sqft_living15  sqft_lot15  \n",
              "0             0    98178  47.5112 -122.257           1340        5650  \n",
              "1          1991    98125  47.7210 -122.319           1690        7639  \n",
              "2             0    98028  47.7379 -122.233           2720        8062  \n",
              "3             0    98136  47.5208 -122.393           1360        5000  \n",
              "4             0    98074  47.6168 -122.045           1800        7503  \n",
              "\n",
              "[5 rows x 21 columns]"
            ],
            "text/html": [
              "\n",
              "  <div id=\"df-8179e0b6-fe56-4d15-9403-7ae727ec5e30\">\n",
              "    <div class=\"colab-df-container\">\n",
              "      <div>\n",
              "<style scoped>\n",
              "    .dataframe tbody tr th:only-of-type {\n",
              "        vertical-align: middle;\n",
              "    }\n",
              "\n",
              "    .dataframe tbody tr th {\n",
              "        vertical-align: top;\n",
              "    }\n",
              "\n",
              "    .dataframe thead th {\n",
              "        text-align: right;\n",
              "    }\n",
              "</style>\n",
              "<table border=\"1\" class=\"dataframe\">\n",
              "  <thead>\n",
              "    <tr style=\"text-align: right;\">\n",
              "      <th></th>\n",
              "      <th>id</th>\n",
              "      <th>date</th>\n",
              "      <th>price</th>\n",
              "      <th>bedrooms</th>\n",
              "      <th>bathrooms</th>\n",
              "      <th>sqft_living</th>\n",
              "      <th>sqft_lot</th>\n",
              "      <th>floors</th>\n",
              "      <th>waterfront</th>\n",
              "      <th>view</th>\n",
              "      <th>...</th>\n",
              "      <th>grade</th>\n",
              "      <th>sqft_above</th>\n",
              "      <th>sqft_basement</th>\n",
              "      <th>yr_built</th>\n",
              "      <th>yr_renovated</th>\n",
              "      <th>zipcode</th>\n",
              "      <th>lat</th>\n",
              "      <th>long</th>\n",
              "      <th>sqft_living15</th>\n",
              "      <th>sqft_lot15</th>\n",
              "    </tr>\n",
              "  </thead>\n",
              "  <tbody>\n",
              "    <tr>\n",
              "      <th>0</th>\n",
              "      <td>7129300520</td>\n",
              "      <td>20141013</td>\n",
              "      <td>221900.0</td>\n",
              "      <td>3</td>\n",
              "      <td>1.00</td>\n",
              "      <td>1180</td>\n",
              "      <td>5650</td>\n",
              "      <td>1.0</td>\n",
              "      <td>0</td>\n",
              "      <td>0</td>\n",
              "      <td>...</td>\n",
              "      <td>7</td>\n",
              "      <td>1180</td>\n",
              "      <td>0</td>\n",
              "      <td>1955</td>\n",
              "      <td>0</td>\n",
              "      <td>98178</td>\n",
              "      <td>47.5112</td>\n",
              "      <td>-122.257</td>\n",
              "      <td>1340</td>\n",
              "      <td>5650</td>\n",
              "    </tr>\n",
              "    <tr>\n",
              "      <th>1</th>\n",
              "      <td>6414100192</td>\n",
              "      <td>20141209</td>\n",
              "      <td>538000.0</td>\n",
              "      <td>3</td>\n",
              "      <td>2.25</td>\n",
              "      <td>2570</td>\n",
              "      <td>7242</td>\n",
              "      <td>2.0</td>\n",
              "      <td>0</td>\n",
              "      <td>0</td>\n",
              "      <td>...</td>\n",
              "      <td>7</td>\n",
              "      <td>2170</td>\n",
              "      <td>400</td>\n",
              "      <td>1951</td>\n",
              "      <td>1991</td>\n",
              "      <td>98125</td>\n",
              "      <td>47.7210</td>\n",
              "      <td>-122.319</td>\n",
              "      <td>1690</td>\n",
              "      <td>7639</td>\n",
              "    </tr>\n",
              "    <tr>\n",
              "      <th>2</th>\n",
              "      <td>5631500400</td>\n",
              "      <td>20150225</td>\n",
              "      <td>180000.0</td>\n",
              "      <td>2</td>\n",
              "      <td>1.00</td>\n",
              "      <td>770</td>\n",
              "      <td>10000</td>\n",
              "      <td>1.0</td>\n",
              "      <td>0</td>\n",
              "      <td>0</td>\n",
              "      <td>...</td>\n",
              "      <td>6</td>\n",
              "      <td>770</td>\n",
              "      <td>0</td>\n",
              "      <td>1933</td>\n",
              "      <td>0</td>\n",
              "      <td>98028</td>\n",
              "      <td>47.7379</td>\n",
              "      <td>-122.233</td>\n",
              "      <td>2720</td>\n",
              "      <td>8062</td>\n",
              "    </tr>\n",
              "    <tr>\n",
              "      <th>3</th>\n",
              "      <td>2487200875</td>\n",
              "      <td>20141209</td>\n",
              "      <td>604000.0</td>\n",
              "      <td>4</td>\n",
              "      <td>3.00</td>\n",
              "      <td>1960</td>\n",
              "      <td>5000</td>\n",
              "      <td>1.0</td>\n",
              "      <td>0</td>\n",
              "      <td>0</td>\n",
              "      <td>...</td>\n",
              "      <td>7</td>\n",
              "      <td>1050</td>\n",
              "      <td>910</td>\n",
              "      <td>1965</td>\n",
              "      <td>0</td>\n",
              "      <td>98136</td>\n",
              "      <td>47.5208</td>\n",
              "      <td>-122.393</td>\n",
              "      <td>1360</td>\n",
              "      <td>5000</td>\n",
              "    </tr>\n",
              "    <tr>\n",
              "      <th>4</th>\n",
              "      <td>1954400510</td>\n",
              "      <td>20150218</td>\n",
              "      <td>510000.0</td>\n",
              "      <td>3</td>\n",
              "      <td>2.00</td>\n",
              "      <td>1680</td>\n",
              "      <td>8080</td>\n",
              "      <td>1.0</td>\n",
              "      <td>0</td>\n",
              "      <td>0</td>\n",
              "      <td>...</td>\n",
              "      <td>8</td>\n",
              "      <td>1680</td>\n",
              "      <td>0</td>\n",
              "      <td>1987</td>\n",
              "      <td>0</td>\n",
              "      <td>98074</td>\n",
              "      <td>47.6168</td>\n",
              "      <td>-122.045</td>\n",
              "      <td>1800</td>\n",
              "      <td>7503</td>\n",
              "    </tr>\n",
              "  </tbody>\n",
              "</table>\n",
              "<p>5 rows × 21 columns</p>\n",
              "</div>\n",
              "      <button class=\"colab-df-convert\" onclick=\"convertToInteractive('df-8179e0b6-fe56-4d15-9403-7ae727ec5e30')\"\n",
              "              title=\"Convert this dataframe to an interactive table.\"\n",
              "              style=\"display:none;\">\n",
              "        \n",
              "  <svg xmlns=\"http://www.w3.org/2000/svg\" height=\"24px\"viewBox=\"0 0 24 24\"\n",
              "       width=\"24px\">\n",
              "    <path d=\"M0 0h24v24H0V0z\" fill=\"none\"/>\n",
              "    <path d=\"M18.56 5.44l.94 2.06.94-2.06 2.06-.94-2.06-.94-.94-2.06-.94 2.06-2.06.94zm-11 1L8.5 8.5l.94-2.06 2.06-.94-2.06-.94L8.5 2.5l-.94 2.06-2.06.94zm10 10l.94 2.06.94-2.06 2.06-.94-2.06-.94-.94-2.06-.94 2.06-2.06.94z\"/><path d=\"M17.41 7.96l-1.37-1.37c-.4-.4-.92-.59-1.43-.59-.52 0-1.04.2-1.43.59L10.3 9.45l-7.72 7.72c-.78.78-.78 2.05 0 2.83L4 21.41c.39.39.9.59 1.41.59.51 0 1.02-.2 1.41-.59l7.78-7.78 2.81-2.81c.8-.78.8-2.07 0-2.86zM5.41 20L4 18.59l7.72-7.72 1.47 1.35L5.41 20z\"/>\n",
              "  </svg>\n",
              "      </button>\n",
              "      \n",
              "  <style>\n",
              "    .colab-df-container {\n",
              "      display:flex;\n",
              "      flex-wrap:wrap;\n",
              "      gap: 12px;\n",
              "    }\n",
              "\n",
              "    .colab-df-convert {\n",
              "      background-color: #E8F0FE;\n",
              "      border: none;\n",
              "      border-radius: 50%;\n",
              "      cursor: pointer;\n",
              "      display: none;\n",
              "      fill: #1967D2;\n",
              "      height: 32px;\n",
              "      padding: 0 0 0 0;\n",
              "      width: 32px;\n",
              "    }\n",
              "\n",
              "    .colab-df-convert:hover {\n",
              "      background-color: #E2EBFA;\n",
              "      box-shadow: 0px 1px 2px rgba(60, 64, 67, 0.3), 0px 1px 3px 1px rgba(60, 64, 67, 0.15);\n",
              "      fill: #174EA6;\n",
              "    }\n",
              "\n",
              "    [theme=dark] .colab-df-convert {\n",
              "      background-color: #3B4455;\n",
              "      fill: #D2E3FC;\n",
              "    }\n",
              "\n",
              "    [theme=dark] .colab-df-convert:hover {\n",
              "      background-color: #434B5C;\n",
              "      box-shadow: 0px 1px 3px 1px rgba(0, 0, 0, 0.15);\n",
              "      filter: drop-shadow(0px 1px 2px rgba(0, 0, 0, 0.3));\n",
              "      fill: #FFFFFF;\n",
              "    }\n",
              "  </style>\n",
              "\n",
              "      <script>\n",
              "        const buttonEl =\n",
              "          document.querySelector('#df-8179e0b6-fe56-4d15-9403-7ae727ec5e30 button.colab-df-convert');\n",
              "        buttonEl.style.display =\n",
              "          google.colab.kernel.accessAllowed ? 'block' : 'none';\n",
              "\n",
              "        async function convertToInteractive(key) {\n",
              "          const element = document.querySelector('#df-8179e0b6-fe56-4d15-9403-7ae727ec5e30');\n",
              "          const dataTable =\n",
              "            await google.colab.kernel.invokeFunction('convertToInteractive',\n",
              "                                                     [key], {});\n",
              "          if (!dataTable) return;\n",
              "\n",
              "          const docLinkHtml = 'Like what you see? Visit the ' +\n",
              "            '<a target=\"_blank\" href=https://colab.research.google.com/notebooks/data_table.ipynb>data table notebook</a>'\n",
              "            + ' to learn more about interactive tables.';\n",
              "          element.innerHTML = '';\n",
              "          dataTable['output_type'] = 'display_data';\n",
              "          await google.colab.output.renderOutput(dataTable, element);\n",
              "          const docLink = document.createElement('div');\n",
              "          docLink.innerHTML = docLinkHtml;\n",
              "          element.appendChild(docLink);\n",
              "        }\n",
              "      </script>\n",
              "    </div>\n",
              "  </div>\n",
              "  "
            ]
          },
          "metadata": {},
          "execution_count": 5
        }
      ]
    },
    {
      "cell_type": "markdown",
      "source": [
        "Now the next task is **normalization**.\n",
        "\n",
        "We will scale each column of dataset by x -> (x-u)/s\n",
        "\n",
        "where u is mean(x), and s is standard deviation of u"
      ],
      "metadata": {
        "id": "xsBZxZ4x-oBR"
      }
    },
    {
      "cell_type": "code",
      "source": [
        "\n",
        "mean_array = np.mean(data_array,0)                                        # this should be an array, each entry should be mean of a column\n",
        "sd_array = np.mean(data_array,0)                                    # this should be an array, each entry should be standard deviation of a column\n",
        "\n",
        "data_array_norm = (data_array - mean_array)/sd_array\n",
        "print(data_array_norm)\n",
        "\n",
        "print(data_array_norm.shape)"
      ],
      "metadata": {
        "id": "u7GZV-0T_zCy",
        "outputId": "28a5bc19-e168-4b03-96ce-a8cc29211cbd",
        "colab": {
          "base_uri": "https://localhost:8080/"
        }
      },
      "execution_count": null,
      "outputs": [
        {
          "output_type": "stream",
          "name": "stdout",
          "text": [
            "[[-1.43451262e-04 -5.89141137e-01 -1.10014550e-01 ...  5.59706236e-04\n",
            "  -3.25464590e-01 -5.57503260e-01]\n",
            " [-1.33721270e-04 -3.86629812e-03 -1.10014550e-01 ...  5.59706236e-04\n",
            "  -1.49279968e-01 -4.01728744e-01]\n",
            " [ 3.13858335e-04 -6.66721066e-01 -4.06676366e-01 ...  5.59706236e-04\n",
            "   3.69206206e-01 -3.68600227e-01]\n",
            " ...\n",
            " [-1.62811959e-04 -2.55490042e-01 -4.06676366e-01 ...  5.59706236e-04\n",
            "  -4.86547673e-01 -8.42815760e-01]\n",
            " [ 3.08447268e-04 -2.59380147e-01 -1.10014550e-01 ...  5.59706236e-04\n",
            "  -2.90227665e-01 -8.99204725e-01]\n",
            " [-1.43351976e-04 -3.98246370e-01 -4.06676366e-01 ...  5.59706236e-04\n",
            "  -4.86547673e-01 -8.93722464e-01]]\n",
            "(21613, 20)\n"
          ]
        }
      ]
    },
    {
      "cell_type": "markdown",
      "source": [
        "The last step is to make train and test dataset and to create seperate vector for price"
      ],
      "metadata": {
        "id": "VCQTrNIgAlPv"
      }
    },
    {
      "cell_type": "code",
      "source": [
        "labels = data_array_norm[:,1]                                                                                                            # extract the price column from data\n",
        "\n",
        "x_array_norm = np.delete(data_array_norm,1,1)                                                                                                      # delete the price column from data_array_norm. Hint: use np.delete()\n",
        "\n",
        "x_train, x_test, y_train, y_test = train_test_split(x_array_norm,labels,test_size=0.15,random_state=42,shuffle=True)    # splitting data into test and train set.\n",
        "\n",
        "print(x_train.shape,x_test.shape,y_train.shape,y_test.shape)"
      ],
      "metadata": {
        "id": "dJyX5QOFBRg5",
        "colab": {
          "base_uri": "https://localhost:8080/"
        },
        "outputId": "ff08d809-a134-4d46-c085-a0f79bbbe21d"
      },
      "execution_count": null,
      "outputs": [
        {
          "output_type": "stream",
          "name": "stdout",
          "text": [
            "(18371, 19) (3242, 19) (18371,) (3242,)\n"
          ]
        }
      ]
    },
    {
      "cell_type": "code",
      "source": [],
      "metadata": {
        "id": "u0YPCk1Wt7l_"
      },
      "execution_count": null,
      "outputs": []
    },
    {
      "cell_type": "markdown",
      "source": [
        "### **Loss and gradient descent**\n",
        "We will use mean squared error(MSE) as loss\n",
        "\n",
        "Use the gradient descent algorithm which you learned from tutorials\n",
        "\n",
        "Your task is to complete the following functions"
      ],
      "metadata": {
        "id": "iAdW-22ZDcdU"
      }
    },
    {
      "cell_type": "code",
      "source": [
        "def loss(y_pred,y_true):\n",
        "\n",
        "  mse = np.mean(np.square(np.subtract(y_true,y_pred)))     #mse = mean_squared_error(y_true,y_pred)\n",
        "\n",
        "\n",
        "  return mse"
      ],
      "metadata": {
        "id": "zsewTW0IvjJF"
      },
      "execution_count": null,
      "outputs": []
    },
    {
      "cell_type": "code",
      "source": [
        "def y(x,a,b):\n",
        "  m,n = x.shape\n",
        "  \n",
        "  y_pred = np.dot(x,a) + b\n",
        "  y_pred = y_pred.astype(np.float)\n",
        "\n",
        "  #assert(y_pred.shape == (m,))\n",
        "  return y_pred"
      ],
      "metadata": {
        "id": "PuNnYzHZrYYa"
      },
      "execution_count": null,
      "outputs": []
    },
    {
      "cell_type": "code",
      "source": [
        "def gradient(x,a,b,y_true):\n",
        "  \"\"\"\n",
        "  This function shoud return gradient of loss\n",
        "  input:\n",
        "  x: [array] the feature vector of shape (m,n)\n",
        "  a: [array] weights of shape (n,)\n",
        "  b: [scalar] bias\n",
        "  y_true: [array] ground truth of shape (m,)\n",
        "\n",
        "  output:\n",
        "  grad: [tuple] a tuple (derivative with respect to a[array of shape(n,)], derivative with respect to b[scalar])\n",
        "  \"\"\"\n",
        "  m,n = x.shape\n",
        "  yp = y(x,a,b)\n",
        "  y_true = y_true.astype(np.float)\n",
        "  d=[1]*n\n",
        "  for k in range(0,n,1):\n",
        "    d[k] = 2*np.mean(x[:,k]*np.subtract(yp,y_true))\n",
        "  da = np.array(d)                                   # write code to calculate derivative of loss with respect to a\n",
        "  db = 2*np.mean(np.subtract(yp,y_true))             # write code to calculate derivative of loss with respect to b\n",
        "\n",
        "  assert(da.shape ==(n,))\n",
        "  return (da,db)"
      ],
      "metadata": {
        "id": "lYnPROu8Gxwi"
      },
      "execution_count": null,
      "outputs": []
    },
    {
      "cell_type": "code",
      "source": [
        "def gradient_descent(x,y_true,learning_rate=0.01,epochs = 100):\n",
        "  \"\"\"\n",
        "  This function perfroms gradient descent and minimizes loss\n",
        "  input:\n",
        "  x: [array] the feature vector of shape (m,n)\n",
        "  y_true: [array] ground truth of shape (m,)\n",
        "  \n",
        "  output:\n",
        "  loss: [array] of size (epochs,)\n",
        "  weights: [tuple] (a,b)\n",
        "  \"\"\"\n",
        "  m,n = x.shape\n",
        "  loss_mse = []\n",
        "  v = [0]*n                                 # initialize empty list to store loss\n",
        "  a = np.array(v) \n",
        "  n, = a.shape                              # initialize a- weights and b- bias\n",
        "  b = 0 \n",
        "\n",
        "  for i in range(epochs):\n",
        "    # calculate derivative using gradient() function\n",
        "    # apply gradient descent now to update a and b\n",
        "    for j in range(0,n,1):\n",
        "      a[j] = a[j] - learning_rate*gradient(x,a,b,y_true)[0][j]\n",
        "    b = b - learning_rate*gradient(x,a,b,y_true)[1]\n",
        "\n",
        "    l_mse = loss(y(x,a,b),y_true)                                # calculate loss at this point\n",
        "    loss_mse.append(l_mse)\n",
        "\n",
        "    print(\"Epoch \",i+1,\" Completed!\",\"loss = \",l_mse)\n",
        "  \n",
        "  print(\"Training completed!!\")\n",
        "\n",
        "  assert(a.shape==(n,))\n",
        "\n",
        "  return (loss_mse,a,b)"
      ],
      "metadata": {
        "id": "km_z3ojKKQdj"
      },
      "execution_count": null,
      "outputs": []
    },
    {
      "cell_type": "markdown",
      "source": [
        "### **Training** "
      ],
      "metadata": {
        "id": "VsR5XLl_WVu4"
      }
    },
    {
      "cell_type": "code",
      "source": [
        "epochs = 150             # tweak this!!!\n",
        "learn_rate = 0.01     # choose learning rate wisely otherwise loss may diverge!!\n",
        "\n",
        "train_loss,a,b = gradient_descent(x_train,y_train,learn_rate,epochs)"
      ],
      "metadata": {
        "id": "Yz389vsZ2h3M",
        "outputId": "8eeaf231-448a-4ddf-d562-82353589758b",
        "colab": {
          "base_uri": "https://localhost:8080/"
        }
      },
      "execution_count": null,
      "outputs": [
        {
          "output_type": "stream",
          "name": "stderr",
          "text": [
            "<ipython-input-9-046bc4bc0117>:5: DeprecationWarning: `np.float` is a deprecated alias for the builtin `float`. To silence this warning, use `float` by itself. Doing this will not modify any behavior and is safe. If you specifically wanted the numpy scalar type, use `np.float64` here.\n",
            "Deprecated in NumPy 1.20; for more details and guidance: https://numpy.org/devdocs/release/1.20.0-notes.html#deprecations\n",
            "  y_pred = y_pred.astype(np.float)\n",
            "<ipython-input-11-d27b85ec50cf>:15: DeprecationWarning: `np.float` is a deprecated alias for the builtin `float`. To silence this warning, use `float` by itself. Doing this will not modify any behavior and is safe. If you specifically wanted the numpy scalar type, use `np.float64` here.\n",
            "Deprecated in NumPy 1.20; for more details and guidance: https://numpy.org/devdocs/release/1.20.0-notes.html#deprecations\n",
            "  y_true = y_true.astype(np.float)\n"
          ]
        },
        {
          "output_type": "stream",
          "name": "stdout",
          "text": [
            "Epoch  1  Completed! loss =  0.45118433923506135\n",
            "Epoch  2  Completed! loss =  0.45118390541102477\n",
            "Epoch  3  Completed! loss =  0.45118348876642\n",
            "Epoch  4  Completed! loss =  0.4511830886209416\n",
            "Epoch  5  Completed! loss =  0.4511827043212241\n",
            "Epoch  6  Completed! loss =  0.45118233523977547\n",
            "Epoch  7  Completed! loss =  0.45118198077395216\n",
            "Epoch  8  Completed! loss =  0.4511816403449755\n",
            "Epoch  9  Completed! loss =  0.4511813133969863\n",
            "Epoch  10  Completed! loss =  0.45118099939613754\n",
            "Epoch  11  Completed! loss =  0.4511806978297223\n",
            "Epoch  12  Completed! loss =  0.4511804082053371\n",
            "Epoch  13  Completed! loss =  0.4511801300500775\n",
            "Epoch  14  Completed! loss =  0.4511798629097663\n",
            "Epoch  15  Completed! loss =  0.45117960634821136\n",
            "Epoch  16  Completed! loss =  0.451179359946494\n",
            "Epoch  17  Completed! loss =  0.45117912330228466\n",
            "Epoch  18  Completed! loss =  0.45117889602918604\n",
            "Epoch  19  Completed! loss =  0.4511786777561021\n",
            "Epoch  20  Completed! loss =  0.45117846812663226\n",
            "Epoch  21  Completed! loss =  0.45117826679848955\n",
            "Epoch  22  Completed! loss =  0.4511780734429411\n",
            "Epoch  23  Completed! loss =  0.4511778877442725\n",
            "Epoch  24  Completed! loss =  0.4511777093992711\n",
            "Epoch  25  Completed! loss =  0.4511775381167317\n",
            "Epoch  26  Completed! loss =  0.45117737361698096\n",
            "Epoch  27  Completed! loss =  0.4511772156314203\n",
            "Epoch  28  Completed! loss =  0.451177063902088\n",
            "Epoch  29  Completed! loss =  0.4511769181812371\n",
            "Epoch  30  Completed! loss =  0.45117677823093194\n",
            "Epoch  31  Completed! loss =  0.4511766438226588\n",
            "Epoch  32  Completed! loss =  0.45117651473695336\n",
            "Epoch  33  Completed! loss =  0.45117639076304183\n",
            "Epoch  34  Completed! loss =  0.4511762716984972\n",
            "Epoch  35  Completed! loss =  0.45117615734890854\n",
            "Epoch  36  Completed! loss =  0.45117604752756363\n",
            "Epoch  37  Completed! loss =  0.4511759420551439\n",
            "Epoch  38  Completed! loss =  0.451175840759432\n",
            "Epoch  39  Completed! loss =  0.45117574347503037\n",
            "Epoch  40  Completed! loss =  0.45117565004309096\n",
            "Epoch  41  Completed! loss =  0.45117556031105643\n",
            "Epoch  42  Completed! loss =  0.4511754741324104\n",
            "Epoch  43  Completed! loss =  0.45117539136643875\n",
            "Epoch  44  Completed! loss =  0.45117531187799964\n",
            "Epoch  45  Completed! loss =  0.45117523553730254\n",
            "Epoch  46  Completed! loss =  0.45117516221969717\n",
            "Epoch  47  Completed! loss =  0.4511750918054691\n",
            "Epoch  48  Completed! loss =  0.45117502417964434\n",
            "Epoch  49  Completed! loss =  0.45117495923180223\n",
            "Epoch  50  Completed! loss =  0.4511748968558948\n",
            "Epoch  51  Completed! loss =  0.45117483695007315\n",
            "Epoch  52  Completed! loss =  0.451174779416522\n",
            "Epoch  53  Completed! loss =  0.4511747241612996\n",
            "Epoch  54  Completed! loss =  0.45117467109418397\n",
            "Epoch  55  Completed! loss =  0.451174620128526\n",
            "Epoch  56  Completed! loss =  0.45117457118110826\n",
            "Epoch  57  Completed! loss =  0.45117452417200815\n",
            "Epoch  58  Completed! loss =  0.45117447902446844\n",
            "Epoch  59  Completed! loss =  0.4511744356647714\n",
            "Epoch  60  Completed! loss =  0.45117439402211823\n",
            "Epoch  61  Completed! loss =  0.4511743540285142\n",
            "Epoch  62  Completed! loss =  0.4511743156186569\n",
            "Epoch  63  Completed! loss =  0.45117427872982985\n",
            "Epoch  64  Completed! loss =  0.4511742433018004\n",
            "Epoch  65  Completed! loss =  0.45117420927672097\n",
            "Epoch  66  Completed! loss =  0.4511741765990346\n",
            "Epoch  67  Completed! loss =  0.4511741452153846\n",
            "Epoch  68  Completed! loss =  0.4511741150745272\n",
            "Epoch  69  Completed! loss =  0.4511740861272478\n",
            "Epoch  70  Completed! loss =  0.4511740583262806\n",
            "Epoch  71  Completed! loss =  0.4511740316262316\n",
            "Epoch  72  Completed! loss =  0.4511740059835047\n",
            "Epoch  73  Completed! loss =  0.4511739813562297\n",
            "Epoch  74  Completed! loss =  0.4511739577041949\n",
            "Epoch  75  Completed! loss =  0.45117393498878056\n",
            "Epoch  76  Completed! loss =  0.4511739131728967\n",
            "Epoch  77  Completed! loss =  0.4511738922209218\n",
            "Epoch  78  Completed! loss =  0.4511738720986452\n",
            "Epoch  79  Completed! loss =  0.45117385277321065\n",
            "Epoch  80  Completed! loss =  0.4511738342130633\n",
            "Epoch  81  Completed! loss =  0.4511738163878978\n",
            "Epoch  82  Completed! loss =  0.45117379926860895\n",
            "Epoch  83  Completed! loss =  0.45117378282724374\n",
            "Epoch  84  Completed! loss =  0.4511737670369568\n",
            "Epoch  85  Completed! loss =  0.45117375187196507\n",
            "Epoch  86  Completed! loss =  0.45117373730750715\n",
            "Epoch  87  Completed! loss =  0.4511737233198016\n",
            "Epoch  88  Completed! loss =  0.4511737098860093\n",
            "Epoch  89  Completed! loss =  0.4511736969841952\n",
            "Epoch  90  Completed! loss =  0.4511736845932928\n",
            "Epoch  91  Completed! loss =  0.4511736726930703\n",
            "Epoch  92  Completed! loss =  0.4511736612640966\n",
            "Epoch  93  Completed! loss =  0.4511736502877101\n",
            "Epoch  94  Completed! loss =  0.45117363974598856\n",
            "Epoch  95  Completed! loss =  0.4511736296217193\n",
            "Epoch  96  Completed! loss =  0.451173619898371\n",
            "Epoch  97  Completed! loss =  0.4511736105600674\n",
            "Epoch  98  Completed! loss =  0.45117360159156056\n",
            "Epoch  99  Completed! loss =  0.45117359297820653\n",
            "Epoch  100  Completed! loss =  0.4511735847059413\n",
            "Epoch  101  Completed! loss =  0.4511735767612579\n",
            "Epoch  102  Completed! loss =  0.45117356913118395\n",
            "Epoch  103  Completed! loss =  0.4511735618032609\n",
            "Epoch  104  Completed! loss =  0.45117355476552357\n",
            "Epoch  105  Completed! loss =  0.45117354800648063\n",
            "Epoch  106  Completed! loss =  0.4511735415150959\n",
            "Epoch  107  Completed! loss =  0.45117353528076987\n",
            "Epoch  108  Completed! loss =  0.4511735292933232\n",
            "Epoch  109  Completed! loss =  0.4511735235429794\n",
            "Epoch  110  Completed! loss =  0.4511735180203492\n",
            "Epoch  111  Completed! loss =  0.45117351271641526\n",
            "Epoch  112  Completed! loss =  0.45117350762251707\n",
            "Epoch  113  Completed! loss =  0.4511735027303372\n",
            "Epoch  114  Completed! loss =  0.45117349803188767\n",
            "Epoch  115  Completed! loss =  0.45117349351949676\n",
            "Epoch  116  Completed! loss =  0.45117348918579653\n",
            "Epoch  117  Completed! loss =  0.45117348502371074\n",
            "Epoch  118  Completed! loss =  0.45117348102644356\n",
            "Epoch  119  Completed! loss =  0.45117347718746825\n",
            "Epoch  120  Completed! loss =  0.45117347350051634\n",
            "Epoch  121  Completed! loss =  0.4511734699595677\n",
            "Epoch  122  Completed! loss =  0.4511734665588407\n",
            "Epoch  123  Completed! loss =  0.4511734632927824\n",
            "Epoch  124  Completed! loss =  0.4511734601560601\n",
            "Epoch  125  Completed! loss =  0.45117345714355195\n",
            "Epoch  126  Completed! loss =  0.45117345425033906\n",
            "Epoch  127  Completed! loss =  0.4511734514716975\n",
            "Epoch  128  Completed! loss =  0.45117344880309007\n",
            "Epoch  129  Completed! loss =  0.45117344624015954\n",
            "Epoch  130  Completed! loss =  0.451173443778721\n",
            "Epoch  131  Completed! loss =  0.4511734414147555\n",
            "Epoch  132  Completed! loss =  0.45117343914440294\n",
            "Epoch  133  Completed! loss =  0.45117343696395645\n",
            "Epoch  134  Completed! loss =  0.45117343486985556\n",
            "Epoch  135  Completed! loss =  0.45117343285868117\n",
            "Epoch  136  Completed! loss =  0.4511734309271492\n",
            "Epoch  137  Completed! loss =  0.45117342907210595\n",
            "Epoch  138  Completed! loss =  0.4511734272905224\n",
            "Epoch  139  Completed! loss =  0.4511734255794894\n",
            "Epoch  140  Completed! loss =  0.45117342393621346\n",
            "Epoch  141  Completed! loss =  0.4511734223580113\n",
            "Epoch  142  Completed! loss =  0.4511734208423059\n",
            "Epoch  143  Completed! loss =  0.45117341938662237\n",
            "Epoch  144  Completed! loss =  0.4511734179885839\n",
            "Epoch  145  Completed! loss =  0.4511734166459078\n",
            "Epoch  146  Completed! loss =  0.45117341535640176\n",
            "Epoch  147  Completed! loss =  0.45117341411795997\n",
            "Epoch  148  Completed! loss =  0.4511734129285606\n",
            "Epoch  149  Completed! loss =  0.4511734117862615\n",
            "Epoch  150  Completed! loss =  0.4511734106891973\n",
            "Training completed!!\n"
          ]
        }
      ]
    },
    {
      "cell_type": "markdown",
      "source": [
        "### **Evaluation and Visualization**\n",
        "Lets plot how loss varies with epochs\n"
      ],
      "metadata": {
        "id": "TDH-7NHQT50f"
      }
    },
    {
      "cell_type": "code",
      "source": [
        "test_loss = gradient_descent(x_test,y_test,learn_rate,epochs)\n",
        "print(\"Loss on test data = \",test_loss)\n",
        "epo=np.linspace(0,epochs,epochs)\n",
        "\n",
        "plt.plot(epo,test_loss[0])                   # plot loss versus epochs\n",
        "plt.title(\"Training Loss\")\n",
        "plt.xlabel(\"Epochs\")\n",
        "plt.ylabel(\"Loss\")\n",
        "plt.show()\n",
        "\n"
      ],
      "metadata": {
        "id": "c_GynnWhjchN",
        "outputId": "587da9e6-bb4f-4011-ecf6-0df4845aaa97",
        "colab": {
          "base_uri": "https://localhost:8080/",
          "height": 1000
        }
      },
      "execution_count": null,
      "outputs": [
        {
          "output_type": "stream",
          "name": "stderr",
          "text": [
            "<ipython-input-9-046bc4bc0117>:5: DeprecationWarning: `np.float` is a deprecated alias for the builtin `float`. To silence this warning, use `float` by itself. Doing this will not modify any behavior and is safe. If you specifically wanted the numpy scalar type, use `np.float64` here.\n",
            "Deprecated in NumPy 1.20; for more details and guidance: https://numpy.org/devdocs/release/1.20.0-notes.html#deprecations\n",
            "  y_pred = y_pred.astype(np.float)\n",
            "<ipython-input-11-d27b85ec50cf>:15: DeprecationWarning: `np.float` is a deprecated alias for the builtin `float`. To silence this warning, use `float` by itself. Doing this will not modify any behavior and is safe. If you specifically wanted the numpy scalar type, use `np.float64` here.\n",
            "Deprecated in NumPy 1.20; for more details and guidance: https://numpy.org/devdocs/release/1.20.0-notes.html#deprecations\n",
            "  y_true = y_true.astype(np.float)\n"
          ]
        },
        {
          "output_type": "stream",
          "name": "stdout",
          "text": [
            "Epoch  1  Completed! loss =  0.5235667499835867\n",
            "Epoch  2  Completed! loss =  0.5235528199172582\n",
            "Epoch  3  Completed! loss =  0.5235394414815564\n",
            "Epoch  4  Completed! loss =  0.5235265928319085\n",
            "Epoch  5  Completed! loss =  0.5235142529887866\n",
            "Epoch  6  Completed! loss =  0.5235024018034523\n",
            "Epoch  7  Completed! loss =  0.5234910199250573\n",
            "Epoch  8  Completed! loss =  0.5234800887690468\n",
            "Epoch  9  Completed! loss =  0.5234695904868142\n",
            "Epoch  10  Completed! loss =  0.5234595079365579\n",
            "Epoch  11  Completed! loss =  0.523449824655292\n",
            "Epoch  12  Completed! loss =  0.523440524831964\n",
            "Epoch  13  Completed! loss =  0.52343159328164\n",
            "Epoch  14  Completed! loss =  0.5234230154207088\n",
            "Epoch  15  Completed! loss =  0.5234147772430704\n",
            "Epoch  16  Completed! loss =  0.5234068652972664\n",
            "Epoch  17  Completed! loss =  0.5233992666645164\n",
            "Epoch  18  Completed! loss =  0.5233919689376232\n",
            "Epoch  19  Completed! loss =  0.523384960200715\n",
            "Epoch  20  Completed! loss =  0.5233782290097884\n",
            "Epoch  21  Completed! loss =  0.5233717643740223\n",
            "Epoch  22  Completed! loss =  0.5233655557378328\n",
            "Epoch  23  Completed! loss =  0.5233595929636364\n",
            "Epoch  24  Completed! loss =  0.5233538663152979\n",
            "Epoch  25  Completed! loss =  0.5233483664422338\n",
            "Epoch  26  Completed! loss =  0.5233430843641431\n",
            "Epoch  27  Completed! loss =  0.5233380114563446\n",
            "Epoch  28  Completed! loss =  0.5233331394356951\n",
            "Epoch  29  Completed! loss =  0.5233284603470633\n",
            "Epoch  30  Completed! loss =  0.5233239665503412\n",
            "Epoch  31  Completed! loss =  0.5233196507079694\n",
            "Epoch  32  Completed! loss =  0.5233155057729555\n",
            "Epoch  33  Completed! loss =  0.5233115249773681\n",
            "Epoch  34  Completed! loss =  0.523307701821286\n",
            "Epoch  35  Completed! loss =  0.5233040300621847\n",
            "Epoch  36  Completed! loss =  0.5233005037047439\n",
            "Epoch  37  Completed! loss =  0.5232971169910577\n",
            "Epoch  38  Completed! loss =  0.5232938643912336\n",
            "Epoch  39  Completed! loss =  0.5232907405943624\n",
            "Epoch  40  Completed! loss =  0.5232877404998473\n",
            "Epoch  41  Completed! loss =  0.5232848592090751\n",
            "Epoch  42  Completed! loss =  0.5232820920174174\n",
            "Epoch  43  Completed! loss =  0.5232794344065493\n",
            "Epoch  44  Completed! loss =  0.5232768820370716\n",
            "Epoch  45  Completed! loss =  0.5232744307414252\n",
            "Epoch  46  Completed! loss =  0.5232720765170864\n",
            "Epoch  47  Completed! loss =  0.5232698155200316\n",
            "Epoch  48  Completed! loss =  0.52326764405846\n",
            "Epoch  49  Completed! loss =  0.5232655585867666\n",
            "Epoch  50  Completed! loss =  0.5232635556997524\n",
            "Epoch  51  Completed! loss =  0.5232616321270639\n",
            "Epoch  52  Completed! loss =  0.5232597847278537\n",
            "Epoch  53  Completed! loss =  0.5232580104856525\n",
            "Epoch  54  Completed! loss =  0.5232563065034422\n",
            "Epoch  55  Completed! loss =  0.5232546699989277\n",
            "Epoch  56  Completed! loss =  0.5232530982999918\n",
            "Epoch  57  Completed! loss =  0.5232515888403338\n",
            "Epoch  58  Completed! loss =  0.5232501391552783\n",
            "Epoch  59  Completed! loss =  0.5232487468777509\n",
            "Epoch  60  Completed! loss =  0.5232474097344136\n",
            "Epoch  61  Completed! loss =  0.5232461255419526\n",
            "Epoch  62  Completed! loss =  0.5232448922035129\n",
            "Epoch  63  Completed! loss =  0.5232437077052754\n",
            "Epoch  64  Completed! loss =  0.5232425701131682\n",
            "Epoch  65  Completed! loss =  0.5232414775697085\n",
            "Epoch  66  Completed! loss =  0.5232404282909697\n",
            "Epoch  67  Completed! loss =  0.523239420563669\n",
            "Epoch  68  Completed! loss =  0.5232384527423694\n",
            "Epoch  69  Completed! loss =  0.5232375232467932\n",
            "Epoch  70  Completed! loss =  0.5232366305592419\n",
            "Epoch  71  Completed! loss =  0.5232357732221176\n",
            "Epoch  72  Completed! loss =  0.5232349498355434\n",
            "Epoch  73  Completed! loss =  0.5232341590550775\n",
            "Epoch  74  Completed! loss =  0.5232333995895182\n",
            "Epoch  75  Completed! loss =  0.5232326701987949\n",
            "Epoch  76  Completed! loss =  0.5232319696919443\n",
            "Epoch  77  Completed! loss =  0.523231296925165\n",
            "Epoch  78  Completed! loss =  0.5232306507999501\n",
            "Epoch  79  Completed! loss =  0.5232300302612938\n",
            "Epoch  80  Completed! loss =  0.5232294342959682\n",
            "Epoch  81  Completed! loss =  0.5232288619308695\n",
            "Epoch  82  Completed! loss =  0.5232283122314287\n",
            "Epoch  83  Completed! loss =  0.5232277843000859\n",
            "Epoch  84  Completed! loss =  0.5232272772748241\n",
            "Epoch  85  Completed! loss =  0.5232267903277628\n",
            "Epoch  86  Completed! loss =  0.5232263226638051\n",
            "Epoch  87  Completed! loss =  0.5232258735193401\n",
            "Epoch  88  Completed! loss =  0.523225442160996\n",
            "Epoch  89  Completed! loss =  0.5232250278844421\n",
            "Epoch  90  Completed! loss =  0.5232246300132398\n",
            "Epoch  91  Completed! loss =  0.5232242478977374\n",
            "Epoch  92  Completed! loss =  0.5232238809140085\n",
            "Epoch  93  Completed! loss =  0.5232235284628355\n",
            "Epoch  94  Completed! loss =  0.5232231899687289\n",
            "Epoch  95  Completed! loss =  0.523222864878989\n",
            "Epoch  96  Completed! loss =  0.5232225526628027\n",
            "Epoch  97  Completed! loss =  0.5232222528103773\n",
            "Epoch  98  Completed! loss =  0.523221964832108\n",
            "Epoch  99  Completed! loss =  0.5232216882577782\n",
            "Epoch  100  Completed! loss =  0.5232214226357919\n",
            "Epoch  101  Completed! loss =  0.5232211675324362\n",
            "Epoch  102  Completed! loss =  0.5232209225311734\n",
            "Epoch  103  Completed! loss =  0.5232206872319607\n",
            "Epoch  104  Completed! loss =  0.5232204612505966\n",
            "Epoch  105  Completed! loss =  0.5232202442180947\n",
            "Epoch  106  Completed! loss =  0.5232200357800798\n",
            "Epoch  107  Completed! loss =  0.5232198355962103\n",
            "Epoch  108  Completed! loss =  0.5232196433396221\n",
            "Epoch  109  Completed! loss =  0.5232194586963947\n",
            "Epoch  110  Completed! loss =  0.5232192813650391\n",
            "Epoch  111  Completed! loss =  0.5232191110560053\n",
            "Epoch  112  Completed! loss =  0.5232189474912092\n",
            "Epoch  113  Completed! loss =  0.523218790403579\n",
            "Epoch  114  Completed! loss =  0.523218639536619\n",
            "Epoch  115  Completed! loss =  0.5232184946439905\n",
            "Epoch  116  Completed! loss =  0.5232183554891102\n",
            "Epoch  117  Completed! loss =  0.5232182218447631\n",
            "Epoch  118  Completed! loss =  0.5232180934927321\n",
            "Epoch  119  Completed! loss =  0.5232179702234416\n",
            "Epoch  120  Completed! loss =  0.523217851835615\n",
            "Epoch  121  Completed! loss =  0.5232177381359464\n",
            "Epoch  122  Completed! loss =  0.5232176289387845\n",
            "Epoch  123  Completed! loss =  0.5232175240658304\n",
            "Epoch  124  Completed! loss =  0.5232174233458452\n",
            "Epoch  125  Completed! loss =  0.5232173266143714\n",
            "Epoch  126  Completed! loss =  0.5232172337134638\n",
            "Epoch  127  Completed! loss =  0.5232171444914324\n",
            "Epoch  128  Completed! loss =  0.5232170588025934\n",
            "Epoch  129  Completed! loss =  0.5232169765070325\n",
            "Epoch  130  Completed! loss =  0.5232168974703755\n",
            "Epoch  131  Completed! loss =  0.5232168215635704\n",
            "Epoch  132  Completed! loss =  0.5232167486626746\n",
            "Epoch  133  Completed! loss =  0.5232166786486544\n",
            "Epoch  134  Completed! loss =  0.5232166114071893\n",
            "Epoch  135  Completed! loss =  0.5232165468284863\n",
            "Epoch  136  Completed! loss =  0.5232164848071\n",
            "Epoch  137  Completed! loss =  0.5232164252417605\n",
            "Epoch  138  Completed! loss =  0.5232163680352084\n",
            "Epoch  139  Completed! loss =  0.5232163130940358\n",
            "Epoch  140  Completed! loss =  0.5232162603285337\n",
            "Epoch  141  Completed! loss =  0.5232162096525454\n",
            "Epoch  142  Completed! loss =  0.5232161609833264\n",
            "Epoch  143  Completed! loss =  0.5232161142414083\n",
            "Epoch  144  Completed! loss =  0.5232160693504703\n",
            "Epoch  145  Completed! loss =  0.5232160262372132\n",
            "Epoch  146  Completed! loss =  0.5232159848312413\n",
            "Epoch  147  Completed! loss =  0.5232159450649458\n",
            "Epoch  148  Completed! loss =  0.5232159068733957\n",
            "Epoch  149  Completed! loss =  0.5232158701942309\n",
            "Epoch  150  Completed! loss =  0.523215834967561\n",
            "Training completed!!\n",
            "Loss on test data =  ([0.5235667499835867, 0.5235528199172582, 0.5235394414815564, 0.5235265928319085, 0.5235142529887866, 0.5235024018034523, 0.5234910199250573, 0.5234800887690468, 0.5234695904868142, 0.5234595079365579, 0.523449824655292, 0.523440524831964, 0.52343159328164, 0.5234230154207088, 0.5234147772430704, 0.5234068652972664, 0.5233992666645164, 0.5233919689376232, 0.523384960200715, 0.5233782290097884, 0.5233717643740223, 0.5233655557378328, 0.5233595929636364, 0.5233538663152979, 0.5233483664422338, 0.5233430843641431, 0.5233380114563446, 0.5233331394356951, 0.5233284603470633, 0.5233239665503412, 0.5233196507079694, 0.5233155057729555, 0.5233115249773681, 0.523307701821286, 0.5233040300621847, 0.5233005037047439, 0.5232971169910577, 0.5232938643912336, 0.5232907405943624, 0.5232877404998473, 0.5232848592090751, 0.5232820920174174, 0.5232794344065493, 0.5232768820370716, 0.5232744307414252, 0.5232720765170864, 0.5232698155200316, 0.52326764405846, 0.5232655585867666, 0.5232635556997524, 0.5232616321270639, 0.5232597847278537, 0.5232580104856525, 0.5232563065034422, 0.5232546699989277, 0.5232530982999918, 0.5232515888403338, 0.5232501391552783, 0.5232487468777509, 0.5232474097344136, 0.5232461255419526, 0.5232448922035129, 0.5232437077052754, 0.5232425701131682, 0.5232414775697085, 0.5232404282909697, 0.523239420563669, 0.5232384527423694, 0.5232375232467932, 0.5232366305592419, 0.5232357732221176, 0.5232349498355434, 0.5232341590550775, 0.5232333995895182, 0.5232326701987949, 0.5232319696919443, 0.523231296925165, 0.5232306507999501, 0.5232300302612938, 0.5232294342959682, 0.5232288619308695, 0.5232283122314287, 0.5232277843000859, 0.5232272772748241, 0.5232267903277628, 0.5232263226638051, 0.5232258735193401, 0.523225442160996, 0.5232250278844421, 0.5232246300132398, 0.5232242478977374, 0.5232238809140085, 0.5232235284628355, 0.5232231899687289, 0.523222864878989, 0.5232225526628027, 0.5232222528103773, 0.523221964832108, 0.5232216882577782, 0.5232214226357919, 0.5232211675324362, 0.5232209225311734, 0.5232206872319607, 0.5232204612505966, 0.5232202442180947, 0.5232200357800798, 0.5232198355962103, 0.5232196433396221, 0.5232194586963947, 0.5232192813650391, 0.5232191110560053, 0.5232189474912092, 0.523218790403579, 0.523218639536619, 0.5232184946439905, 0.5232183554891102, 0.5232182218447631, 0.5232180934927321, 0.5232179702234416, 0.523217851835615, 0.5232177381359464, 0.5232176289387845, 0.5232175240658304, 0.5232174233458452, 0.5232173266143714, 0.5232172337134638, 0.5232171444914324, 0.5232170588025934, 0.5232169765070325, 0.5232168974703755, 0.5232168215635704, 0.5232167486626746, 0.5232166786486544, 0.5232166114071893, 0.5232165468284863, 0.5232164848071, 0.5232164252417605, 0.5232163680352084, 0.5232163130940358, 0.5232162603285337, 0.5232162096525454, 0.5232161609833264, 0.5232161142414083, 0.5232160693504703, 0.5232160262372132, 0.5232159848312413, 0.5232159450649458, 0.5232159068733957, 0.5232158701942309, 0.523215834967561], array([0, 0, 0, 0, 0, 0, 0, 0, 0, 0, 0, 0, 0, 0, 0, 0, 0, 0, 0]), 0.018213978033336648)\n"
          ]
        },
        {
          "output_type": "display_data",
          "data": {
            "text/plain": [
              "<Figure size 640x480 with 1 Axes>"
            ],
            "image/png": "[encoded data removed]"
          },
          "metadata": {}
        }
      ]
    },
    {
      "cell_type": "code",
      "source": [],
      "metadata": {
        "id": "0zaRqYA6i5F5"
      },
      "execution_count": null,
      "outputs": []
    },
    {
      "cell_type": "markdown",
      "source": [
        "## **Deep Learning**\n",
        "In this section We will build a simple multilayer perceptron network(**MLP**) in TensorFlow"
      ],
      "metadata": {
        "id": "iQ5wPjPb57pb"
      }
    },
    {
      "cell_type": "code",
      "execution_count": null,
      "metadata": {
        "id": "EGoZEKIbdXZD"
      },
      "outputs": [],
      "source": [
        "# Lets import the required libraries\n",
        "import numpy as np\n",
        "import pandas as pd\n",
        "from tensorflow import keras\n",
        "from tensorflow.keras import layers\n",
        "import matplotlib.pyplot as plt\n",
        "from sklearn.model_selection import train_test_split"
      ]
    },
    {
      "cell_type": "markdown",
      "metadata": {
        "id": "ThuZ51gEdXZF"
      },
      "source": [
        "### **Load Dataset**\n",
        "We will be using MNIST dataset of handwritten digits\n",
        "\n",
        "Just run the cell below to load dataset"
      ]
    },
    {
      "cell_type": "code",
      "execution_count": null,
      "metadata": {
        "id": "Xj3J8Dp-dXZG",
        "colab": {
          "base_uri": "https://localhost:8080/"
        },
        "outputId": "acf6d272-fa97-40f4-da7e-1184432c11a1"
      },
      "outputs": [
        {
          "output_type": "stream",
          "name": "stdout",
          "text": [
            "Downloading data from https://storage.googleapis.com/tensorflow/tf-keras-datasets/mnist.npz\n",
            "11490434/11490434 [==============================] - 0s 0us/step\n",
            "No. of training examples =  60000\n",
            "Size of each image in dataset =  (28, 28)\n",
            "No. of test examples =  10000\n"
          ]
        }
      ],
      "source": [
        "mnist = keras.datasets.mnist\n",
        "(x_train, y_train), (x_test, y_test) = mnist.load_data()\n",
        "print(\"No. of training examples = \",x_train.shape[0])\n",
        "print(\"Size of each image in dataset = \",x_train.shape[1:])\n",
        "print(\"No. of test examples = \",x_test.shape[0])"
      ]
    },
    {
      "cell_type": "code",
      "execution_count": null,
      "metadata": {
        "id": "XX9xW4ardXZG",
        "colab": {
          "base_uri": "https://localhost:8080/",
          "height": 96
        },
        "outputId": "c121703a-b3dd-4db0-daad-36b0659eadd5"
      },
      "outputs": [
        {
          "output_type": "stream",
          "name": "stdout",
          "text": [
            "label: 5       2       0       1       4       5       6       9       8       3       "
          ]
        },
        {
          "output_type": "display_data",
          "data": {
            "text/plain": [
              "<Figure size 640x480 with 10 Axes>"
            ],
            "image/png": "[encoded data removed]"
          },
          "metadata": {}
        }
      ],
      "source": [
        "# Run this cell to visualize some of the images from dataset\n",
        "\n",
        "n = 10    # = no. of images to visualize\n",
        "\n",
        "index = np.random.choice(x_train.shape[0],10)  # choose random index\n",
        "print(\"label: \",end=\"\")\n",
        "\n",
        "for i,ind in enumerate(index):\n",
        "    plt.subplot(1,n,i+1)\n",
        "    plt.imshow(x_train[ind],cmap=\"gray\")\n",
        "    plt.axis(\"off\")\n",
        "    print(y_train[ind],end=\"       \")\n",
        "\n",
        "plt.show()\n"
      ]
    },
    {
      "cell_type": "markdown",
      "metadata": {
        "id": "FQcA9i9YdXZH"
      },
      "source": [
        "#### Preprocess dataset\n",
        "Since we are building a MLP model the input to the model should be a vector rather than a 28 by 28 matrix.\n",
        "\n",
        "So your **First Task** is to flatten the images\n",
        "\n",
        "(Hint: use *reshape()* method of arrays...)\n",
        "\n",
        "Next, create validation dataset out of training dataset.\n",
        "\n",
        "You can use 50K images for training and 10K for validation"
      ]
    },
    {
      "cell_type": "code",
      "execution_count": null,
      "metadata": {
        "id": "RXnkfE6gdXZI",
        "colab": {
          "base_uri": "https://localhost:8080/"
        },
        "outputId": "e558e813-d58a-4c2e-9344-3ee00fd5ad78"
      },
      "outputs": [
        {
          "output_type": "stream",
          "name": "stdout",
          "text": [
            "(50000, 28, 28) (50000,)\n"
          ]
        }
      ],
      "source": [
        "# Flatten the images into 1-d vectors\n",
        "x_train = x_train/256\n",
        "x_test = x_test/256\n",
        "\n",
        "x_train_flatten = x_train.reshape(60000,784)  \n",
        "x_test                                     # flatten the images of training set\n",
        "x_test_flatten = x_test.reshape(10000,784)                                        # flatten th eimages of test set\n",
        "\n",
        "\n",
        "# Divide the training data into training and validation data....\n",
        "\n",
        "n_validation = 10000 \n",
        "x_train, x_validation, y_train, y_validation = train_test_split(x_train,y_train,test_size=1/6,random_state=42,shuffle=True)\n",
        "x_validation = x_validation.reshape(10000,784)\n",
        "x_train_flatten = x_train.reshape(50000,784)                                      # choose number of images to be used for validation\n",
        "print(x_train.shape, y_train.shape)\n"
      ]
    },
    {
      "cell_type": "markdown",
      "metadata": {
        "id": "fMGl2aq3dXZJ"
      },
      "source": [
        "### **Build a model**\n",
        "You can choose whatever architechure you want, but ensure that it is **not too deep** as that will take too much time to train and **not too shallow** as that will give very low accuracy."
      ]
    },
    {
      "cell_type": "code",
      "execution_count": null,
      "metadata": {
        "id": "A7yr3nwTdXZK",
        "colab": {
          "base_uri": "https://localhost:8080/"
        },
        "outputId": "dda0b593-03c1-410c-80b6-9852865e884d"
      },
      "outputs": [
        {
          "output_type": "execute_result",
          "data": {
            "text/plain": [
              "<bound method Model.summary of <keras.engine.sequential.Sequential object at 0x7f34c7162590>>"
            ]
          },
          "metadata": {},
          "execution_count": 29
        }
      ],
      "source": [
        "model = keras.models.Sequential([\n",
        "    keras.layers.Dense(10, input_shape=(784,), activation='sigmoid')]\n",
        "    )\n",
        "\n",
        "# Make a graphical representation of the model...\n",
        "keras.utils.plot_model(model,show_shapes=True)\n",
        "model.summary"
      ]
    },
    {
      "cell_type": "markdown",
      "metadata": {
        "id": "7oDNvKB6dXZL"
      },
      "source": [
        "#### Compile and Train\n",
        "Choose an optimizer- method that minimizes loss function\n",
        "\n",
        "**adam** optimizer is one of the popular choices. You should read about these online"
      ]
    },
    {
      "cell_type": "code",
      "execution_count": null,
      "metadata": {
        "id": "7DM9i_F5dXZL",
        "colab": {
          "base_uri": "https://localhost:8080/"
        },
        "outputId": "bf93ec94-4ccf-4fc4-eebd-f15a75fdee4b"
      },
      "outputs": [
        {
          "output_type": "stream",
          "name": "stdout",
          "text": [
            "Epoch 1/20\n",
            "1563/1563 [==============================] - 4s 2ms/step - loss: 0.2395 - accuracy: 0.9342 - val_loss: 0.2666 - val_accuracy: 0.9249\n",
            "Epoch 2/20\n",
            "1563/1563 [==============================] - 3s 2ms/step - loss: 0.2384 - accuracy: 0.9347 - val_loss: 0.2653 - val_accuracy: 0.9269\n",
            "Epoch 3/20\n",
            "1563/1563 [==============================] - 4s 2ms/step - loss: 0.2376 - accuracy: 0.9343 - val_loss: 0.2662 - val_accuracy: 0.9258\n",
            "Epoch 4/20\n",
            "1563/1563 [==============================] - 3s 2ms/step - loss: 0.2375 - accuracy: 0.9339 - val_loss: 0.2694 - val_accuracy: 0.9260\n",
            "Epoch 5/20\n",
            "1563/1563 [==============================] - 3s 2ms/step - loss: 0.2367 - accuracy: 0.9352 - val_loss: 0.2702 - val_accuracy: 0.9227\n",
            "Epoch 6/20\n",
            "1563/1563 [==============================] - 3s 2ms/step - loss: 0.2362 - accuracy: 0.9350 - val_loss: 0.2652 - val_accuracy: 0.9281\n",
            "Epoch 7/20\n",
            "1563/1563 [==============================] - 4s 2ms/step - loss: 0.2354 - accuracy: 0.9355 - val_loss: 0.2703 - val_accuracy: 0.9247\n",
            "Epoch 8/20\n",
            "1563/1563 [==============================] - 3s 2ms/step - loss: 0.2350 - accuracy: 0.9358 - val_loss: 0.2715 - val_accuracy: 0.9251\n",
            "Epoch 9/20\n",
            "1563/1563 [==============================] - 3s 2ms/step - loss: 0.2342 - accuracy: 0.9358 - val_loss: 0.2674 - val_accuracy: 0.9264\n",
            "Epoch 10/20\n",
            "1563/1563 [==============================] - 3s 2ms/step - loss: 0.2336 - accuracy: 0.9355 - val_loss: 0.2695 - val_accuracy: 0.9243\n",
            "Epoch 11/20\n",
            "1563/1563 [==============================] - 4s 2ms/step - loss: 0.2334 - accuracy: 0.9359 - val_loss: 0.2683 - val_accuracy: 0.9258\n",
            "Epoch 12/20\n",
            "1563/1563 [==============================] - 3s 2ms/step - loss: 0.2331 - accuracy: 0.9357 - val_loss: 0.2693 - val_accuracy: 0.9254\n",
            "Epoch 13/20\n",
            "1563/1563 [==============================] - 3s 2ms/step - loss: 0.2321 - accuracy: 0.9356 - val_loss: 0.2703 - val_accuracy: 0.9263\n",
            "Epoch 14/20\n",
            "1563/1563 [==============================] - 3s 2ms/step - loss: 0.2320 - accuracy: 0.9364 - val_loss: 0.2692 - val_accuracy: 0.9257\n",
            "Epoch 15/20\n",
            "1563/1563 [==============================] - 4s 2ms/step - loss: 0.2318 - accuracy: 0.9359 - val_loss: 0.2726 - val_accuracy: 0.9244\n",
            "Epoch 16/20\n",
            "1563/1563 [==============================] - 3s 2ms/step - loss: 0.2313 - accuracy: 0.9361 - val_loss: 0.2731 - val_accuracy: 0.9242\n",
            "Epoch 17/20\n",
            "1563/1563 [==============================] - 3s 2ms/step - loss: 0.2312 - accuracy: 0.9363 - val_loss: 0.2705 - val_accuracy: 0.9262\n",
            "Epoch 18/20\n",
            "1563/1563 [==============================] - 3s 2ms/step - loss: 0.2302 - accuracy: 0.9364 - val_loss: 0.2722 - val_accuracy: 0.9252\n",
            "Epoch 19/20\n",
            "1563/1563 [==============================] - 4s 2ms/step - loss: 0.2300 - accuracy: 0.9365 - val_loss: 0.2713 - val_accuracy: 0.9251\n",
            "Epoch 20/20\n",
            "1563/1563 [==============================] - 3s 2ms/step - loss: 0.2293 - accuracy: 0.9368 - val_loss: 0.2762 - val_accuracy: 0.9233\n",
            "dict_keys(['loss', 'accuracy', 'val_loss', 'val_accuracy'])\n"
          ]
        }
      ],
      "source": [
        "from keras import losses, optimizers, metrics\n",
        "model.compile(optimizer = \"adam\", loss = 'sparse_categorical_crossentropy',metrics=[\"accuracy\"])\n",
        "\n",
        "n_epochs = 20              # set number of epochs\n",
        "batch_size = 512            # you can tweak with these parametrs\n",
        "history = model.fit(x_train_flatten,y_train,epochs=20,validation_data=(x_validation,y_validation))\n",
        "print(history.history.keys())"
      ]
    },
    {
      "cell_type": "markdown",
      "metadata": {
        "id": "7QTWTtoVdXZM"
      },
      "source": [
        "### **Evaluate**\n",
        "Evaluate your model on test data.\n",
        "\n",
        "And Show some results"
      ]
    },
    {
      "cell_type": "code",
      "execution_count": null,
      "metadata": {
        "id": "bhuBGWg-dXZM",
        "colab": {
          "base_uri": "https://localhost:8080/",
          "height": 979
        },
        "outputId": "ba52b3ab-e580-44bb-aa5b-858391ca95ad"
      },
      "outputs": [
        {
          "output_type": "stream",
          "name": "stdout",
          "text": [
            "500/500 [==============================] - 1s 1ms/step - loss: 0.2795 - accuracy: 0.9244\n",
            "Loss =  0.279451459646225\n",
            "Accuracy =  92.43999719619751 %\n"
          ]
        },
        {
          "output_type": "display_data",
          "data": {
            "text/plain": [
              "<Figure size 640x480 with 1 Axes>"
            ],
            "image/png": "[encoded data removed]"
          },
          "metadata": {}
        },
        {
          "output_type": "display_data",
          "data": {
            "text/plain": [
              "<Figure size 640x480 with 1 Axes>"
            ],
            "image/png": "[encoded data removed]"
          },
          "metadata": {}
        }
      ],
      "source": [
        "results = model.evaluate(x_test_flatten,y_test, 20)\n",
        "print(\"Loss = \",results[0])\n",
        "print(\"Accuracy = \",results[1]*100,\"%\")\n",
        "\n",
        "# Plot Accuracy...\n",
        "plt.plot([i for i in range(n_epochs)],history.history['accuracy'], label=\"Training accuracy\")\n",
        "plt.plot([i for i in range(n_epochs)],history.history['val_accuracy'],label=\"validation accuracy\" )\n",
        "plt.title(\"Model accuracy\")\n",
        "plt.xlabel(\"Epochs\")\n",
        "plt.ylabel(\"Accuracy\")\n",
        "plt.legend()\n",
        "plt.show()\n",
        "\n",
        "# Similarly write code to plot loss...\n",
        "plt.plot([i for i in range(n_epochs)],history.history['loss'], label=\"loss\")\n",
        "plt.title(\"Model loss\")\n",
        "plt.xlabel(\"epochs\")\n",
        "plt.ylabel(\"loss\")\n",
        "plt.show()\n",
        "\n"
      ]
    },
    {
      "cell_type": "markdown",
      "metadata": {
        "id": "4Hjr0CBhdXZN"
      },
      "source": [
        "Lets show our results on images from testing dataset"
      ]
    },
    {
      "cell_type": "code",
      "source": [],
      "metadata": {
        "id": "ta8UWQFoxNF8"
      },
      "execution_count": null,
      "outputs": []
    },
    {
      "cell_type": "code",
      "execution_count": null,
      "metadata": {
        "id": "sEs1cVAHdXZN",
        "colab": {
          "base_uri": "https://localhost:8080/",
          "height": 305
        },
        "outputId": "79995b4e-6fec-4d75-ee69-4f03a937cb9e"
      },
      "outputs": [
        {
          "output_type": "stream",
          "name": "stdout",
          "text": [
            "label: 0       6       4       9       0       3       0       6       5       8       [8587 3218 6251 2892 7536 3299 4631  729 5821 7259]\n"
          ]
        },
        {
          "output_type": "display_data",
          "data": {
            "text/plain": [
              "<Figure size 640x480 with 10 Axes>"
            ],
            "image/png": "[encoded data removed]"
          },
          "metadata": {}
        },
        {
          "output_type": "stream",
          "name": "stdout",
          "text": [
            "Predicted value: \n",
            "313/313 [==============================] - 0s 1ms/step\n",
            "313/313 [==============================] - 0s 1ms/step\n",
            "313/313 [==============================] - 0s 1ms/step\n",
            "313/313 [==============================] - 0s 1ms/step\n",
            "313/313 [==============================] - 0s 1ms/step\n",
            "313/313 [==============================] - 0s 1ms/step\n",
            "313/313 [==============================] - 1s 2ms/step\n",
            "313/313 [==============================] - 1s 2ms/step\n",
            "313/313 [==============================] - 0s 1ms/step\n",
            "313/313 [==============================] - 0s 1ms/step\n",
            "8       "
          ]
        }
      ],
      "source": [
        "n = 10   # = no. of images to see predictions on\n",
        "index = np.random.choice(x_test.shape[0],10)  # choose random index from test data\n",
        "print(\"label: \",end=\"\")\n",
        "\n",
        "for i,ind in enumerate(index):\n",
        "    plt.subplot(1,n,i+1)\n",
        "    plt.imshow(x_test[ind],cmap=\"gray\")             # fill code to show images from test set\n",
        "    plt.axis(\"off\")\n",
        "    print(y_test[ind],end=\"       \")\n",
        "print(index)\n",
        "    \n",
        "    \n",
        "    \n",
        "\n",
        "\n",
        "\n",
        "plt.show()\n",
        "print(\"Predicted value: \")\n",
        "\n",
        "# Now lets print the predictions\n",
        "\n",
        "for i,ind in enumerate(index):\n",
        "    # write code to predict and print digit in image\n",
        "    # Hint: the output of the model is a 10-d vector which gives probabilties\n",
        "    # The digit in the image would be the class for which probability is hghest..\n",
        "    di = model.predict(x_test_flatten)\n",
        "    digit = np.argmax(di[ind])\n",
        "\n",
        "    #digits = model.predict(x_test_flatten)\n",
        "    print(digit,end=\"       \")\n",
        "    "
      ]
    },
    {
      "cell_type": "markdown",
      "metadata": {
        "id": "ne8-aBvHdXZO"
      },
      "source": [
        "That's it you have completed the assignment !!\n",
        "\n",
        "We hope that you learned something from this exercise\n",
        "\n",
        "### Credits:\n",
        "\n",
        "**Leaders:**\n",
        "\n",
        "Mohit Kulkarni\n",
        "\n",
        "Shivanshu Tyagi\n",
        "\n",
        "**Scretaries:**\n",
        "\n",
        "Sahil Bansal\n",
        "\n",
        "Shashwat Gupta\n",
        "\n",
        "Rashmi Sharma"
      ]
    }
  ],
  "metadata": {
    "interpreter": {
      "hash": "31f2aee4e71d21fbe5cf8b01ff0e069b9275f58929596ceb00d14d90e3e16cd6"
    },
    "kernelspec": {
      "display_name": "Python 3.8.10 64-bit",
      "language": "python",
      "name": "python3"
    },
    "language_info": {
      "codemirror_mode": {
        "name": "ipython",
        "version": 3
      },
      "file_extension": ".py",
      "mimetype": "text/x-python",
      "name": "python",
      "nbconvert_exporter": "python",
      "pygments_lexer": "ipython3",
      "version": "3.8.10"
    },
    "orig_nbformat": 4,
    "colab": {
      "provenance": [],
      "include_colab_link": true
    }
  },
  "nbformat": 4,
  "nbformat_minor": 0
}