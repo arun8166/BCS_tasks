{
  "nbformat": 4,
  "nbformat_minor": 0,
  "metadata": {
    "colab": {
      "provenance": [],
      "include_colab_link": true
    },
    "kernelspec": {
      "name": "python3",
      "display_name": "Python 3"
    },
    "language_info": {
      "name": "python"
    }
  },
  "cells": [
    {
      "cell_type": "markdown",
      "metadata": {
        "id": "view-in-github",
        "colab_type": "text"
      },
      "source": [
        "<a href=\"https://colab.research.google.com/github/arun8166/BCS_tasks/blob/main/task3.ipynb\" target=\"_parent\"><img src=\"https://colab.research.google.com/assets/colab-badge.svg\" alt=\"Open In Colab\"/></a>"
      ]
    },
    {
      "cell_type": "code",
      "source": [
        "!pip install opendatasets"
      ],
      "metadata": {
        "id": "CI4Td4h6LwwG"
      },
      "execution_count": null,
      "outputs": []
    },
    {
      "cell_type": "code",
      "source": [
        "!pip install keras\n",
        "!pip install tensorflow\n",
        "!pip install rasa==1.1.4"
      ],
      "metadata": {
        "id": "B6i6nDzwSbyj"
      },
      "execution_count": null,
      "outputs": []
    },
    {
      "cell_type": "code",
      "execution_count": 3,
      "metadata": {
        "id": "7fV_o41CSA-L"
      },
      "outputs": [],
      "source": [
        "import math\n",
        "import numpy as np\n",
        "import matplotlib.pyplot as plt\n",
        "from matplotlib.pyplot import imread\n",
        "import scipy\n",
        "from PIL import Image\n",
        "import pandas as pd\n",
        "import tensorflow as tf\n",
        "import tensorflow.keras.layers as tfl\n",
        "from tensorflow.python.framework import ops"
      ]
    },
    {
      "cell_type": "code",
      "source": [
        "import opendatasets as od\n",
        "import pandas as pd\n",
        "\n",
        "od.download(\"https://www.kaggle.com/datasets/koryakinp/fingers\")"
      ],
      "metadata": {
        "id": "LUWOi0U2JtdS"
      },
      "execution_count": null,
      "outputs": []
    },
    {
      "cell_type": "code",
      "source": [
        "import os\n",
        "import cv2\n",
        "import numpy as np\n",
        "\n",
        "# Path to the dataset directory\n",
        "dataset_dir = '/content/fingers/test'\n",
        "\n",
        "# Initialize lists to store images and labels\n",
        "images = []\n",
        "labels = []\n",
        "\n",
        "# Iterate through each image file\n",
        "for filename in os.listdir(dataset_dir):\n",
        "    # Load the image using OpenCV\n",
        "    image = cv2.imread(os.path.join(dataset_dir, filename), cv2.IMREAD_GRAYSCALE)\n",
        "    \n",
        "    # Resize the image to a desired size (e.g., 128x128)\n",
        "    image = cv2.resize(image, (64, 64,))\n",
        "    \n",
        "    # Append the image to the images list\n",
        "    images.append(image)\n",
        "    \n",
        "    # Get the label from the filename (the first character)\n",
        "    label = int(filename[-6])\n",
        "    \n",
        "    # Append the label to the labels list\n",
        "    labels.append(label)\n",
        "\n",
        "# Convert the lists to NumPy arrays\n",
        "x_test = np.array(images)\n",
        "y_test = np.array(labels)\n"
      ],
      "metadata": {
        "id": "ly-YcGDjMVFq"
      },
      "execution_count": 6,
      "outputs": []
    },
    {
      "cell_type": "code",
      "source": [
        "# Path to the dataset directory\n",
        "dataset_dir = '/content/fingers/train'\n",
        "\n",
        "# Initialize lists to store images and labels\n",
        "images = []\n",
        "labels = []\n",
        "\n",
        "# Iterate through each image file\n",
        "for filename in os.listdir(dataset_dir):\n",
        "    # Load the image using OpenCV\n",
        "    image = cv2.imread(os.path.join(dataset_dir, filename), cv2.IMREAD_GRAYSCALE)\n",
        "    \n",
        "    # Resize the image to a desired size (e.g., 128x128)\n",
        "    image = cv2.resize(image, (64, 64,))\n",
        "    \n",
        "    # Append the image to the images list\n",
        "    images.append(image)\n",
        "    \n",
        "    # Get the label from the filename (the first character)\n",
        "    label = int(filename[-6])\n",
        "    \n",
        "    # Append the label to the labels list\n",
        "    labels.append(label)\n",
        "\n",
        "# Convert the lists to NumPy arrays\n",
        "x_train = np.array(images)\n",
        "y_train = np.array(labels)"
      ],
      "metadata": {
        "id": "MpF3ypcOOZCx"
      },
      "execution_count": 7,
      "outputs": []
    },
    {
      "cell_type": "code",
      "source": [
        "x_train = np.expand_dims(x_train, axis=-1)\n",
        "x_test = np.expand_dims(x_test, axis=-1)"
      ],
      "metadata": {
        "id": "eyO82oK4bzct"
      },
      "execution_count": 8,
      "outputs": []
    },
    {
      "cell_type": "code",
      "source": [
        "from tensorflow.keras.utils import to_categorical\n",
        "\n",
        "\n",
        "Y_train = to_categorical(y_train, num_classes=6)\n",
        "\n",
        "Y_test = to_categorical(y_test, num_classes=6)"
      ],
      "metadata": {
        "id": "LalU-m8ed9tI"
      },
      "execution_count": 9,
      "outputs": []
    },
    {
      "cell_type": "code",
      "source": [
        "print (\"Y_train shape: \" + str(Y_train.shape))\n",
        "print (\"Y_test shape: \" + str(Y_test.shape))"
      ],
      "metadata": {
        "id": "T7IQKyjjrZpf"
      },
      "execution_count": null,
      "outputs": []
    },
    {
      "cell_type": "code",
      "source": [
        "def convolutional_model(input_shape):\n",
        "\n",
        "    input_img = tf.keras.Input(shape=input_shape)\n",
        "    ## CONV2D: 8 filters 4x4, stride of 1, padding 'SAME'\n",
        "    Z1 = tfl.Conv2D(filters= 8. , kernel_size=4 , padding='same',strides=1)(input_img)\n",
        "    ## RELU\n",
        "    A1 = tfl.ReLU()(Z1)\n",
        "    ## MAXPOOL: window 8x8, stride 8, padding 'SAME'\n",
        "    P1 = tfl.MaxPool2D(pool_size=8, strides=8, padding='SAME')(A1)\n",
        "    ## CONV2D: 16 filters 2x2, stride 1, padding 'SAME'\n",
        "    Z2 = tfl.Conv2D(filters= 16. , kernel_size=2 , padding='same',strides=1)(P1)\n",
        "    ## RELU\n",
        "    A2 =  tfl.ReLU()(Z2)\n",
        "    ## MAXPOOL: window 4x4, stride 4, padding 'SAME'\n",
        "    P2 = tfl.MaxPool2D(pool_size=4, strides=4, padding='SAME')(A2)\n",
        "    ## FLATTEN\n",
        "    F = tfl.Flatten()(P2)\n",
        "    ## Dense layer\n",
        "    ## 6 neurons in output layer. Hint: one of the arguments should be \"activation='softmax'\" \n",
        "    outputs = tfl.Dense(units= 6 , activation='softmax')(F)\n",
        "    model = tf.keras.Model(inputs=input_img, outputs=outputs)\n",
        "    return model"
      ],
      "metadata": {
        "id": "JIMLdalLXtPl"
      },
      "execution_count": 11,
      "outputs": []
    },
    {
      "cell_type": "code",
      "source": [
        "conv_model = convolutional_model((64, 64,1))\n",
        "conv_model.compile(optimizer='adam',\n",
        "                  loss='categorical_crossentropy',\n",
        "                  metrics=['accuracy'])\n",
        "conv_model.summary()"
      ],
      "metadata": {
        "id": "XnmX0laaY2Z-"
      },
      "execution_count": null,
      "outputs": []
    },
    {
      "cell_type": "code",
      "source": [
        "train_dataset = tf.data.Dataset.from_tensor_slices((x_train[0:1800,], Y_train[0:1800,]))\n",
        "train_dataset = train_dataset.batch(64)\n",
        "test_dataset = tf.data.Dataset.from_tensor_slices((x_test[0:300,], Y_test[0:300,]))\n",
        "test_dataset = test_dataset.batch(64)\n",
        "history = conv_model.fit(train_dataset, epochs=100, validation_data=test_dataset)"
      ],
      "metadata": {
        "id": "rlw_4ed4Ziz6"
      },
      "execution_count": null,
      "outputs": []
    },
    {
      "cell_type": "code",
      "source": [
        "import random\n",
        "import cv2\n",
        "from matplotlib import pyplot as plt\n",
        "\n",
        "numbers = list(range(1, 1001))\n",
        "random_array = random.sample(numbers, 10)\n",
        "\n",
        "fig = plt.figure(figsize=(10, 7))\n",
        "\n",
        "for i, idx in enumerate(random_array):\n",
        "    img_resized = cv2.resize(x_test[idx], (64, 64))\n",
        "    y_pred = np.argmax(conv_model.predict(np.expand_dims(x_test[idx], axis=0),verbose=0))\n",
        "    ax = fig.add_subplot(1, 10, i+1)\n",
        "    ax.imshow(img_resized, cmap='gray')\n",
        "    ax.axis('off')\n",
        "    ax.set_title(\"pred = \" + str(y_pred))\n",
        "\n",
        "plt.tight_layout()\n",
        "plt.show()\n"
      ],
      "metadata": {
        "id": "-u1mE9zAciPm"
      },
      "execution_count": null,
      "outputs": []
    }
  ]
}