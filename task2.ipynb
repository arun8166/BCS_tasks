{
  "cells": [
    {
      "cell_type": "markdown",
      "metadata": {
        "id": "view-in-github",
        "colab_type": "text"
      },
      "source": [
        "<a href=\"https://colab.research.google.com/github/arun8166/BCS_tasks/blob/main/task2.ipynb\" target=\"_parent\"><img src=\"https://colab.research.google.com/assets/colab-badge.svg\" alt=\"Open In Colab\"/></a>"
      ]
    },
    {
      "cell_type": "code",
      "execution_count": null,
      "metadata": {
        "id": "s9A7p_biiTMs"
      },
      "outputs": [],
      "source": [
        "from google.colab import files\n",
        "uploaded = files.upload()              #upload image onto colab"
      ]
    },
    {
      "cell_type": "code",
      "execution_count": null,
      "metadata": {
        "id": "LiIyJkp2kNr5"
      },
      "outputs": [],
      "source": [
        "\n",
        "import cv2\n",
        "import matplotlib.pyplot as plt\n",
        "\n",
        "\n",
        "path = list(uploaded.keys())[0]                                                 #get image path\n",
        "image = cv2.imread(path)\n",
        "\n",
        "newImage = cv2.copyMakeBorder(image, 15, 15, 15, 15, cv2.BORDER_CONSTANT)       #apply a padding of width 15\n",
        "\n",
        "canny_image = cv2.Canny(newImage,100,255)                                         #Canny edge detection\n",
        "\n",
        "plt.imshow(canny_image, cmap='gray')\n",
        "plt.axis('off')\n",
        "\n",
        "\n",
        "\n"
      ]
    }
  ],
  "metadata": {
    "colab": {
      "provenance": [],
      "authorship_tag": "ABX9TyNaYFcFR00o2FpTMyIcp/y0",
      "include_colab_link": true
    },
    "kernelspec": {
      "display_name": "Python 3",
      "name": "python3"
    },
    "language_info": {
      "name": "python"
    }
  },
  "nbformat": 4,
  "nbformat_minor": 0
}